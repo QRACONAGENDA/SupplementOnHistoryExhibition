{
 "cells": [
  {
   "cell_type": "markdown",
   "id": "c72e24ff-c900-4f45-b354-ae6b0beefb45",
   "metadata": {},
   "source": [
    "# QRACON- BB84 with Qiskit\n",
    "這是一篇關於如何使用Qiskit建立一個BB84演算法並得出金鑰的筆記\n",
    "\n",
    "希望本程式能夠在讀者理解此演算法的過程中起到些幫助，或是讓讀者在復刻此程式時能帶給讀者更多的樂趣。"
   ]
  },
  {
   "cell_type": "markdown",
   "id": "b30305d0-c087-4048-93e5-b0af17c6c575",
   "metadata": {},
   "source": [
    "---\r\n",
    "前情提要:本程式使用Jupyter notebook和基於Qiskit = **1.1.1**編寫，如果後續存在Qiskit版本更新程式可能無法運行!\r\n",
    "!"
   ]
  },
  {
   "cell_type": "markdown",
   "id": "f6a5b75a-0f0a-4f54-ac2e-b9b35ee19749",
   "metadata": {},
   "source": [
    "---\n",
    "先匯入本程式所會用到的庫"
   ]
  },
  {
   "cell_type": "code",
   "execution_count": 2,
   "id": "d8954514-8ad8-47f4-afad-2d1842c049b3",
   "metadata": {},
   "outputs": [],
   "source": [
    "from qiskit import QuantumCircuit\n",
    "from numpy.random import randint\n",
    "import numpy as np\n",
    "from qiskit.primitives import StatevectorSampler"
   ]
  },
  {
   "cell_type": "markdown",
   "id": "4830bfd8-3dcb-45c2-8440-a1fe1e8cb91f",
   "metadata": {},
   "source": [
    "BB84的協議核心是Alice在0和1中隨機選擇並隨機用+和X兩種偏振片發送光子給Bob，然後Bob在隨機用+和X兩種偏振片測量光子。\n",
    "\n",
    "所以我們要製作3組隨機的List來代表以上三個選擇。"
   ]
  },
  {
   "cell_type": "code",
   "execution_count": 3,
   "id": "ddf82561-125a-4681-a532-b6ce9ddced26",
   "metadata": {},
   "outputs": [
    {
     "name": "stdout",
     "output_type": "stream",
     "text": [
      "Alice's State:\t [1 1 1 0 1 0 1 1 0 1 1 0 1 1 0 0 0 1 0 1]\n",
      "Alice's Bases:\t [1 1 1 1 1 1 1 0 0 0 0 0 0 0 1 1 1 1 1 1]\n",
      "Bob's Bases:\t [1 0 1 0 1 1 0 0 1 1 1 0 1 1 1 1 0 1 1 0]\n"
     ]
    }
   ],
   "source": [
    "num_qubits = 20 #可根據電腦效能更改\n",
    "\n",
    "alice_basis = np.random.randint(2, size=num_qubits)\n",
    "alice_state = np.random.randint(2, size=num_qubits)\n",
    "bob_basis = np.random.randint(2, size=num_qubits)\n",
    "\n",
    "print(f\"Alice's State:\\t {np.array2string(alice_state)}\")\n",
    "print(f\"Alice's Bases:\\t {np.array2string(alice_basis)}\")\n",
    "print(f\"Bob's Bases:\\t {np.array2string(bob_basis)}\")"
   ]
  },
  {
   "cell_type": "markdown",
   "id": "2d22bbc2-4340-4524-9219-5420bf115725",
   "metadata": {},
   "source": [
    "此時你可能得到像這樣的結果\n",
    "\n",
    "Alice's State:\t [1 1 1 1 0 1 0 1 0 0 0 0 1 1 0 1]\n",
    "Alice's Bases:\t [0 0 1 0 0 1 0 1 1 1 1 0 1 0 0 1]\n",
    "Bob's Bases:\t [0 0 0 0 0 1 0 1 0 0 1 0 1 0 1 0]\n",
    "\n",
    "由上至些分別是Alice選擇的0和1、Alice選擇的偏振片(假設0代表+)、Bob選擇的偏振片。"
   ]
  },
  {
   "cell_type": "markdown",
   "id": "e2dbb5e6-8c16-4796-99ea-e1009ea422b5",
   "metadata": {},
   "source": [
    "接下來便開始製作電路。\n",
    "\n",
    "1.根據先前的qubit數量宣告一個QuantumCircuit，使每個qubit都處於預設值$|0\\rangle$。\n",
    "2.在Alice選擇1的位置施加z gate使其變成$|1\\rangle$。\n",
    "3.在Alice選擇偏振片X的位置施加hadamard gate使其變成 $\\frac{1}{\\sqrt{2}} |0\\rangle+\\frac{1}{\\sqrt{2}} |1\\rangle$。\n",
    "4.Bob收到qubits後對Bob選擇偏振片X的位置施加hadamard gate。\n",
    "5.測量全部qubits。"
   ]
  },
  {
   "cell_type": "code",
   "execution_count": 4,
   "id": "ae5b2202-35e6-459b-9b79-cca2a969273f",
   "metadata": {},
   "outputs": [],
   "source": [
    "def bb84_circuit(state, basis, measurement_basis):\n",
    "    num_qubits = len(state)\n",
    "    \n",
    "    circuit = QuantumCircuit(num_qubits)\n",
    "\n",
    "    for i in range(len(basis)):\n",
    "        if state[i] == 1:\n",
    "            circuit.x(i)\n",
    "        if basis[i] == 1:\n",
    "            circuit.h(i)\n",
    "   \n",
    "    for i in range(len(measurement_basis)):\n",
    "        if measurement_basis[i] == 1:\n",
    "            circuit.h(i)\n",
    "\n",
    "    circuit.measure_all()\n",
    "    \n",
    "    return circuit"
   ]
  },
  {
   "cell_type": "markdown",
   "id": "4f8004f9-f5b9-4065-9361-61447f11ecce",
   "metadata": {},
   "source": [
    "接著便可以執行電路了，本程式使用**StatevectorSampler**進行量子電腦的模擬\n",
    "\n",
    "如果Alice與Bob使用的偏振片相同，那根據hadamard gate是酉矩陣的的性質，Bob測量的結果會與當初Alice選擇的相同，所以可做金鑰使用。\n",
    "如果偏振片不同，那Bob會有50%的機率得到與Alice的選擇不同的結果。"
   ]
  },
  {
   "cell_type": "code",
   "execution_count": 5,
   "id": "0f3da6e8-65af-4859-b3bc-bdf940100f98",
   "metadata": {},
   "outputs": [
    {
     "name": "stdout",
     "output_type": "stream",
     "text": [
      "Key: 0100010110\n"
     ]
    }
   ],
   "source": [
    "qc = bb84_circuit(alice_state, alice_basis, bob_basis)\n",
    "sampler = StatevectorSampler()\n",
    "pub = qc\n",
    "job_sampler = sampler.run([pub],shots=1).result()\n",
    "result = job_sampler[0].data.meas.get_counts()\n",
    "\n",
    "key_list = list(result.keys())[0]\n",
    "\n",
    "encryption_key = ''\n",
    "for i in range(num_qubits):\n",
    "    if alice_basis[i] == bob_basis[i]:\n",
    "            encryption_key += str(key_list[i])\n",
    "print(f\"Key: {encryption_key}\")"
   ]
  },
  {
   "cell_type": "markdown",
   "id": "c209437b-6690-4fe8-9fce-29879c381694",
   "metadata": {},
   "source": [
    "最後應該會長這樣 Key: 1000010110\n",
    "\n",
    "可以發現金鑰長度大約是qubits的一半，這與我們所知道的Alice與Bob有50%會使用到相同的偏振片結果相同。"
   ]
  },
  {
   "cell_type": "markdown",
   "id": "0ec317e5-19e2-463d-bae4-467b327eabb5",
   "metadata": {},
   "source": [
    "參考資料\n",
    "\n",
    "[> The BB84 Quantum Cryptography Algorithm](https://github.com/qmunitytech/Tutorials/blob/main/intermediate/The%20BB84%20Quantum%20Cryptography%20algorithm.ipynb)\n",
    "\n",
    "[> IBM Quantum Challenges 2024](https://github.com/qmunitytech/Tutorials/blob/main/intermediate/The%20BB84%20Quantum%20Cryptography%20algorithm.ipynb)"
   ]
  },
  {
   "cell_type": "code",
   "execution_count": null,
   "id": "c26a0dd0-b989-49b3-b663-d4e1cbeebe30",
   "metadata": {},
   "outputs": [],
   "source": []
  }
 ],
 "metadata": {
  "kernelspec": {
   "display_name": "Python 3 (ipykernel)",
   "language": "python",
   "name": "python3"
  },
  "language_info": {
   "codemirror_mode": {
    "name": "ipython",
    "version": 3
   },
   "file_extension": ".py",
   "mimetype": "text/x-python",
   "name": "python",
   "nbconvert_exporter": "python",
   "pygments_lexer": "ipython3",
   "version": "3.11.9"
  }
 },
 "nbformat": 4,
 "nbformat_minor": 5
}
