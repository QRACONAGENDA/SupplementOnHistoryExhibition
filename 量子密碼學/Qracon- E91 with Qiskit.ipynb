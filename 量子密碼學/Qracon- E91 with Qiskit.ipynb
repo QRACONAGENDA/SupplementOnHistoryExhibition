{
 "cells": [
  {
   "cell_type": "markdown",
   "id": "4dae1953-6fb4-4f84-9caf-bb16b39a01e8",
   "metadata": {},
   "source": [
    "# Qracon- E91 with Qiskit\n",
    "\n",
    "這是一篇關於如何使用Qiskit建立一個E91演算法並得出金鑰的筆記\n",
    "接下來我將會介紹E91協議的執行原理和如何執行，希望本程式能夠在讀者理解此演算法的過程中起到些幫助，或是讓讀者在復刻此程式時能帶給讀者更多的樂趣。"
   ]
  },
  {
   "cell_type": "markdown",
   "id": "c75ff96b-0b61-4cdf-8ccd-7a068f6e5b0b",
   "metadata": {},
   "source": [
    "## 量子糾纏\n",
    "讓我們假設AB電子原為一體，現在當他們分裂成A和B電子時他們的旋轉方向會因角動量守恆而相反，當我們觀測A電子的自旋方向時，我們便能得知B電子的自旋方向。\n",
    "\n",
    "這裡便是1種糾纏態，屬於其中一種Bell states \n",
    "\n",
    "$$\\frac{1}{\\sqrt{2}}(\\lvert11\\rangle + \\lvert00\\rangle)$$\n",
    "而我們這次用到的 singlet state 可寫成以下，且也是屬於Bell state的一種。\n",
    "\n",
    "$$\\frac{1}{\\sqrt{2}}(\\lvert01\\rangle - \\lvert10\\rangle)$$"
   ]
  },
  {
   "cell_type": "markdown",
   "id": "120df106-febf-495c-bbe8-bbbf966bfc2e",
   "metadata": {},
   "source": [
    "## CHSH不等式\n",
    "要說明CHSH不等式我們得先說明局域實在論，\n",
    "1.資訊的傳輸不可超越光速 (局域論 Locality)\n",
    "2.事物的存在不受觀測引響 (實在論 Realism) \n",
    "\n",
    "讓我們假設有一個人Victor將分別發送$\\pm1$給Alice(A)與Bob(B)，而A與B將會從X和Y取一個方向量測V發送的訊號。\n",
    "如此我們便能計算A與B的期望值總和。\n",
    "$$A_XB_X\\ +\\ A_XB_Y +\\ A_YB_X\\ -\\ A_YB_Y\\ =\\ (A_X\\ +\\ A_Y)B_X\\ +\\ \\ (A_X\\ -\\ A_Y)B_Y$$\n",
    "可以看出來$(A_X\\ +\\ A_Y)$或$(A_X\\ -\\ A_Y)$其一會是$0$，畢竟結果會是$-1,1$或$1,-1$其中的一個。\n",
    "所以多次執行後上式的期望值應不大於$2$。$$-2\\ \\le\\ C\\ \\le\\ 2$$\n",
    "\n",
    "但如果Victor不再發送古典的$\\pm1$，而改發送糾纏量子對的話，經過實驗我們發現期望值居然大約等於$2.8$。\n",
    "$$|CHSH\\rangle\\ \\approx\\ 2\\sqrt{2}$$\n",
    "\n",
    "我們可以假設今天Alice可以各自從X和Z方向擇一測量收到的糾纏對，Bob則可以從W或V方向選擇測量，其中 $W = \\frac{1}{\\sqrt{2}} (X + Z)$, $V = \\frac{1}{\\sqrt{2}} (-X + Z)$\n",
    "那我們的測量期望值應為\n",
    "\\begin{eqnarray*}\n",
    " \\langle X \\otimes W \\rangle_{\\psi_s} &= -\\frac{1}{\\sqrt{2}}, \\quad \n",
    " \\langle X \\otimes V \\rangle_{\\psi_s} &= \\frac{1}{\\sqrt{2}}, \\qquad\\qquad  \\\\\n",
    " \\langle Z \\otimes W \\rangle_{\\psi_s} &= -\\frac{1}{\\sqrt{2}}, \\quad\n",
    " \\langle Z \\otimes V \\rangle_{\\psi_s} &= -\\frac{1}{\\sqrt{2}}.\n",
    "\\end{eqnarray*}\n",
    "$$C =\n",
    "\\langle X\\otimes W \\rangle - \\langle X \\otimes V \\rangle + \\langle Z \\otimes W \\rangle + \\langle Z \\otimes V \\rangle =\n",
    "-2 \\sqrt{2}. \\qquad\\qquad $$\n",
    "\n",
    "這違背了我們之前古典物理中所證明的期望值絕對值應不大於 $2$ 的理論，所以該理論假設的局域論與實在論勢必會有一個不存在於量子力學，這代表了這些量子在觀測前不存在一個確定的值。\n",
    "當然我們可用此不等式來檢查量子是否糾纏，且這正是我們要做的。\n",
    "\n",
    "更多內容可以參考[這裡](https://learning.quantum.ibm.com/tutorial/chsh-inequality)"
   ]
  },
  {
   "cell_type": "markdown",
   "id": "9a9090a2-314b-4bf4-a509-ed08cd9fb3db",
   "metadata": {},
   "source": [
    "## 金鑰製作\n",
    "請先確認**qiskit version = 1.1.1**，其餘版本可能導致程式碼失效。"
   ]
  },
  {
   "cell_type": "code",
   "execution_count": 1,
   "id": "e1402437-5744-4be1-94ff-338aaacfd61d",
   "metadata": {},
   "outputs": [
    {
     "data": {
      "text/plain": [
       "'1.1.1'"
      ]
     },
     "execution_count": 1,
     "metadata": {},
     "output_type": "execute_result"
    }
   ],
   "source": [
    "from qiskit import __version__\n",
    "__version__"
   ]
  },
  {
   "cell_type": "markdown",
   "id": "62257caa-aac3-420e-9708-ffadbc73df30",
   "metadata": {},
   "source": [
    "一樣先導入會用到的庫備用"
   ]
  },
  {
   "cell_type": "code",
   "execution_count": 2,
   "id": "2727c88b-3907-4ad9-9432-afdc46e42e8c",
   "metadata": {},
   "outputs": [],
   "source": [
    "import numpy as np\n",
    "import random\n",
    "import re\n",
    "from qiskit import QuantumCircuit, QuantumRegister, ClassicalRegister\n",
    "from qiskit_aer import Aer"
   ]
  },
  {
   "cell_type": "markdown",
   "id": "50c90997-bc92-4419-8f06-da1482a7b34b",
   "metadata": {},
   "source": [
    "製作一個電路使2個qubits成為上面提到的 singlet 糾纏態，並為其建立4個classicalbits。"
   ]
  },
  {
   "cell_type": "code",
   "execution_count": 3,
   "id": "fc63c11b-0e9f-43ef-860e-c92a1a393b33",
   "metadata": {},
   "outputs": [
    {
     "data": {
      "text/plain": [
       "<qiskit.circuit.instructionset.InstructionSet at 0x26461d1c730>"
      ]
     },
     "execution_count": 3,
     "metadata": {},
     "output_type": "execute_result"
    }
   ],
   "source": [
    "qr = QuantumRegister(2, name=\"qr\")\n",
    "cr = ClassicalRegister(4, name=\"cr\")\n",
    "singlet = QuantumCircuit(qr, cr, name='singlet')\n",
    "singlet.x(qr[0])\n",
    "singlet.x(qr[1])\n",
    "singlet.h(qr[0])\n",
    "singlet.cx(qr[0],qr[1])\n",
    "\n",
    "#singlet.draw('mpl') #用以觀察電路"
   ]
  },
  {
   "cell_type": "markdown",
   "id": "4987ef50-31b7-4df8-af62-37983c48d68c",
   "metadata": {},
   "source": [
    "製作Alice與Bob各自的三個測量方向 $(X,Z,W,V)$。!\\begin{align*}\n",
    " b_i = 1: \\quad \\vec{a}_1 &= (1,0,0) \\quad (X \\text{ observable}) &\n",
    " b_j^{'} = 1: \\quad \\vec{b}_1 &= \\left(\\frac{1}{\\sqrt{2}},0,\\frac{1}{\\sqrt{2}}\\right) \\quad (W \\text{ observable})\n",
    " \\\\\n",
    " b_i = 2: \\quad \\vec{a}_2 &= \\left(\\frac{1}{\\sqrt{2}},0,\\frac{1}{\\sqrt{2}}\\right) \\quad (W \\text{ observable}) &\n",
    " b_j^{'} = 2: \\quad \\vec{b}_2 &= (0,0,1) \\quad ( \\text{Z observable})\n",
    " \\\\\n",
    " b_i = 3: \\quad \\vec{a}_3 &= (0,0,1) \\quad (Z \\text{ observable}) &\n",
    " b_j^{'} = 3: \\quad \\vec{b}_3 &= \\left(-\\frac{1}{\\sqrt{2}},0,\\frac{1}{\\sqrt{2}}\\right) \\quad (V \\text{ observable})\n",
    "\\end{align*}![vectors](https://hackmd.io/_uploads/HkDUVFWOA.png)\n"
   ]
  },
  {
   "cell_type": "code",
   "execution_count": 4,
   "id": "91d8a2e6-b75b-40a0-a4b6-d76f69200eda",
   "metadata": {},
   "outputs": [],
   "source": [
    "## Alice的觀測器電路\n",
    "\n",
    "#A1電路用 X 基底測量qubits\n",
    "measureA1 = QuantumCircuit(qr, cr, name='measureA1')\n",
    "measureA1.h(qr[0])\n",
    "measureA1.measure(qr[0],cr[0])\n",
    "\n",
    "#A2電路用 W 基底測量qubits\n",
    "measureA2 = QuantumCircuit(qr, cr, name='measureA2')\n",
    "measureA2.s(qr[0])\n",
    "measureA2.h(qr[0])\n",
    "measureA2.t(qr[0])\n",
    "measureA2.h(qr[0])\n",
    "measureA2.measure(qr[0],cr[0])\n",
    "\n",
    "#A3電路用 Z 基底測量qubits\n",
    "measureA3 = QuantumCircuit(qr, cr, name='measureA3')\n",
    "measureA3.measure(qr[0],cr[0])\n",
    "\n",
    "## Bob的觀測器電路\n",
    "\n",
    "#B1電路用 W 基底測量qubits\n",
    "measureB1 = QuantumCircuit(qr, cr, name='measureB1')\n",
    "measureB1.s(qr[1])\n",
    "measureB1.h(qr[1])\n",
    "measureB1.t(qr[1])\n",
    "measureB1.h(qr[1])\n",
    "measureB1.measure(qr[1],cr[1])\n",
    "\n",
    "#B2電路用 Z 基底測量qubits\n",
    "measureB2 = QuantumCircuit(qr, cr, name='measureB2')\n",
    "measureB2.measure(qr[1],cr[1])\n",
    "\n",
    "#B3電路用 V 基底測量qubits\n",
    "measureB3 = QuantumCircuit(qr, cr, name='measureB3')\n",
    "measureB3.s(qr[1])\n",
    "measureB3.h(qr[1])\n",
    "measureB3.tdg(qr[1])\n",
    "measureB3.h(qr[1])\n",
    "measureB3.measure(qr[1],cr[1])\n",
    "\n",
    "#將以上電路合併成List\n",
    "aliceMeasurements = [measureA1, measureA2, measureA3]\n",
    "bobMeasurements = [measureB1, measureB2, measureB3]"
   ]
  },
  {
   "cell_type": "markdown",
   "id": "1b175088-5c1a-4d53-a9d6-cec67183ab9c",
   "metadata": {},
   "source": [
    "輸入發送的Singlet量子對數量\n",
    "並隨機選擇Alice與Bob將使用的測量方向"
   ]
  },
  {
   "cell_type": "code",
   "execution_count": 5,
   "id": "fd6c003a-adca-4c24-8c63-ea1cbc95205d",
   "metadata": {},
   "outputs": [],
   "source": [
    "numberOfSinglets = 500\n",
    "\n",
    "aliceMeasurementChoices = [random.randint(1, 3) for i in range(numberOfSinglets)] \n",
    "bobMeasurementChoices = [random.randint(1, 3) for i in range(numberOfSinglets)] "
   ]
  },
  {
   "cell_type": "markdown",
   "id": "4eca700a-5d32-4e48-bd74-b747f58cb68e",
   "metadata": {},
   "source": [
    "將測量電路根據上翻選擇的測量方向組合至電路中\n",
    "首先產生一個singlet量子對，並將第一顆給Alice測量，第二顆給Bob測量。\n",
    "最後再為每個電路命名。"
   ]
  },
  {
   "cell_type": "code",
   "execution_count": 16,
   "id": "964072ac-ff1a-489c-b958-de6367a96041",
   "metadata": {},
   "outputs": [],
   "source": [
    "circuits = []\n",
    "\n",
    "for i in range(numberOfSinglets):\n",
    "    #合併singlet電路兩個觀測電路\n",
    "    circuitName = singlet.compose(aliceMeasurements[aliceMeasurementChoices[i]-1]).compose(bobMeasurements[bobMeasurementChoices[i]-1])\n",
    "    \n",
    "    #命名電路\n",
    "    circuitName.name=f'{str(i)}:A{str(aliceMeasurementChoices[i])} B{str(bobMeasurementChoices[i] + 2)}'\n",
    "\n",
    "    \n",
    "    #將電路加至List中\n",
    "    circuits.append(circuitName)"
   ]
  },
  {
   "cell_type": "code",
   "execution_count": 17,
   "id": "fc2f6c76-1093-4e4b-82b1-705b885f2313",
   "metadata": {},
   "outputs": [
    {
     "name": "stdout",
     "output_type": "stream",
     "text": [
      "0:A3 B5\n"
     ]
    },
    {
     "data": {
      "image/png": "[encoded data removed]",
      "text/plain": [
       "<Figure size 884.591x284.278 with 1 Axes>"
      ]
     },
     "execution_count": 17,
     "metadata": {},
     "output_type": "execute_result"
    }
   ],
   "source": [
    "print(circuits[0].name) #可選擇其他circuits查看\n",
    "circuits[0].draw('mpl')"
   ]
  },
  {
   "cell_type": "markdown",
   "id": "a31b3199-c79a-468c-ac36-c4478f165b9f",
   "metadata": {},
   "source": [
    "接下來開始執行量子電路。\n",
    "先選擇模擬器後執行電路，並印出結果。\n",
    "這次選用可以批量執行電路的qasm_simulator。"
   ]
  },
  {
   "cell_type": "code",
   "execution_count": 18,
   "id": "b66ae8fa-a7c6-461c-8f8c-0fd2e3e312df",
   "metadata": {},
   "outputs": [
    {
     "name": "stdout",
     "output_type": "stream",
     "text": [
      "{'0001': 1}\n"
     ]
    }
   ],
   "source": [
    "simulator = Aer.get_backend('qasm_simulator')\n",
    "result = simulator.run(circuits,shots=1).result()\n",
    "print(result.get_counts(circuits[0]))"
   ]
  },
  {
   "cell_type": "markdown",
   "id": "e5355e38-dc0f-421c-a7bb-01a91d05949f",
   "metadata": {},
   "source": [
    "應該會得到類似0010，Alice和Bob的結果儲存在前兩碼'10'上"
   ]
  },
  {
   "cell_type": "markdown",
   "id": "8c68a1dc-2359-43e6-afa9-a7c18a9364ea",
   "metadata": {},
   "source": [
    "接著我們利用python的正規表達式re來分類結果。"
   ]
  },
  {
   "cell_type": "code",
   "execution_count": 19,
   "id": "64779176-b70b-45ac-aae1-216380229e32",
   "metadata": {},
   "outputs": [],
   "source": [
    "abPatterns = [\n",
    "    re.compile('..00$'), #尋找後兩碼為00的結果(Alice和Bob各得到-1)\n",
    "    re.compile('..01$'), #尋找後兩碼為01的結果\n",
    "    re.compile('..10$'), #尋找後兩碼為10的結果(Alice得到-1、Bob得到1)\n",
    "    re.compile('..11$')  # 尋找後兩碼為11的結果\n",
    "]"
   ]
  },
  {
   "cell_type": "markdown",
   "id": "37ff82ba-7cfe-4762-8fd8-5a92189f97d9",
   "metadata": {},
   "source": [
    "然後將結果分類進aliceResults和bobResults中"
   ]
  },
  {
   "cell_type": "code",
   "execution_count": 20,
   "id": "d893507c-6968-41bd-955f-058422e08507",
   "metadata": {},
   "outputs": [],
   "source": [
    "aliceResults = [] # Alice的結果(string a)\n",
    "bobResults = [] # Bob的結果(string a')\n",
    "\n",
    "for i in range(numberOfSinglets):\n",
    "    #將結果轉入res List中\n",
    "    res = list(result.get_counts(circuits[i]).keys())[0]\n",
    "    \n",
    "    if abPatterns[0].search(res): #如果後兩碼為-1,-1\n",
    "        aliceResults.append(-1) #紀錄Alice得到-1\n",
    "        bobResults.append(-1) #紀錄Bob得到-1\n",
    "    if abPatterns[1].search(res):\n",
    "        aliceResults.append(1)\n",
    "        bobResults.append(-1)\n",
    "    if abPatterns[2].search(res): ##如果後兩碼為-1,1\n",
    "        aliceResults.append(-1) #紀錄Alice得到-1\n",
    "        bobResults.append(1) #紀錄Bob得到1\n",
    "    if abPatterns[3].search(res): \n",
    "        aliceResults.append(1)\n",
    "        bobResults.append(1)"
   ]
  },
  {
   "cell_type": "markdown",
   "id": "7647f62f-7e39-4d5d-a5f6-376c6bf11ab9",
   "metadata": {},
   "source": [
    "接著將以上結果比對並製成能夠加密的金鑰。\n",
    "理論上根據singlet量子對，如果使用相同的觀測電路測量，Alice的結果應與Bob異號。"
   ]
  },
  {
   "cell_type": "code",
   "execution_count": 21,
   "id": "a3b3f0b8-6cd6-4b4a-aaca-8aa24f1b0e52",
   "metadata": {},
   "outputs": [],
   "source": [
    "aliceKey = [] # Alice的密碼串\n",
    "bobKey = [] # Bob的密碼串\n",
    "\n",
    "#比對Alice與Bob的觀測電路選擇\n",
    "for i in range(numberOfSinglets):\n",
    "    #如果Alice和Bob用了同一種基底的觀測電路(不是同一種號碼)\n",
    "    if (aliceMeasurementChoices[i] == 2 and bobMeasurementChoices[i] == 1) or (aliceMeasurementChoices[i] == 3 and bobMeasurementChoices[i] == 2):\n",
    "        aliceKey.append(aliceResults[i]) #記錄Alice的密鑰\n",
    "        bobKey.append(- bobResults[i]) #記錄Bob的密鑰，其應為Alice的密鑰的異號\n",
    "        \n",
    "keyLength = len(aliceKey) #密鑰的長度"
   ]
  },
  {
   "cell_type": "markdown",
   "id": "6c3427b5-77fd-4389-8157-d432aab266e9",
   "metadata": {},
   "source": [
    "接下來我們比對Alice與Bob的密鑰，理論上應為相同，否則加密便會失敗。"
   ]
  },
  {
   "cell_type": "code",
   "execution_count": 22,
   "id": "513105a7-75bf-4ac5-8d04-85f613a0980a",
   "metadata": {},
   "outputs": [],
   "source": [
    "abKeyMismatches = 0 #紀錄錯誤的位數\n",
    "\n",
    "for j in range(keyLength):\n",
    "    if aliceKey[j] != bobKey[j]:\n",
    "        abKeyMismatches += 1"
   ]
  },
  {
   "cell_type": "markdown",
   "id": "fdfbbd6b-19f0-45a9-a5fd-679c44d372bf",
   "metadata": {},
   "source": [
    "計算CHSH期望值"
   ]
  },
  {
   "cell_type": "code",
   "execution_count": 24,
   "id": "2ab6f106-0e47-464f-a429-61704e5d4abf",
   "metadata": {},
   "outputs": [],
   "source": [
    "#使用函式計算CHSH值\n",
    "def chsh_corr(result):\n",
    "    \n",
    "    # lists with the counts of measurement results\n",
    "    # each element represents the number of (-1,-1), (-1,1), (1,-1) and (1,1) results respectively\n",
    "    countA1B1 = [0, 0, 0, 0] # XW observable\n",
    "    countA1B3 = [0, 0, 0, 0] # XV observable\n",
    "    countA3B1 = [0, 0, 0, 0] # ZW observable\n",
    "    countA3B3 = [0, 0, 0, 0] # ZV observable\n",
    "\n",
    "    for i in range(numberOfSinglets):\n",
    "\n",
    "        res = list(result.get_counts(circuits[i]).keys())[0]\n",
    "\n",
    "        # if the spins of the qubits of the i-th singlet were projected onto the a_1/b_1 directions\n",
    "        if (aliceMeasurementChoices[i] == 1 and bobMeasurementChoices[i] == 1):\n",
    "            for j in range(4):\n",
    "                if abPatterns[j].search(res):\n",
    "                    countA1B1[j] += 1\n",
    "\n",
    "        if (aliceMeasurementChoices[i] == 1 and bobMeasurementChoices[i] == 3):\n",
    "            for j in range(4):\n",
    "                if abPatterns[j].search(res):\n",
    "                    countA1B3[j] += 1\n",
    "\n",
    "        if (aliceMeasurementChoices[i] == 3 and bobMeasurementChoices[i] == 1):\n",
    "            for j in range(4):\n",
    "                if abPatterns[j].search(res):\n",
    "                    countA3B1[j] += 1\n",
    "                    \n",
    "        # if the spins of the qubits of the i-th singlet were projected onto the a_3/b_3 directions\n",
    "        if (aliceMeasurementChoices[i] == 3 and bobMeasurementChoices[i] == 3):\n",
    "            for j in range(4):\n",
    "                if abPatterns[j].search(res):\n",
    "                    countA3B3[j] += 1\n",
    "                    \n",
    "    # number of the results obtained from the measurements in a particular basis\n",
    "    total11 = sum(countA1B1)\n",
    "    total13 = sum(countA1B3)\n",
    "    total31 = sum(countA3B1)\n",
    "    total33 = sum(countA3B3)      \n",
    "                    \n",
    "    # expectation values of XW, XV, ZW and ZV observables (2)\n",
    "    expect11 = (countA1B1[0] - countA1B1[1] - countA1B1[2] + countA1B1[3])/total11 # -1/sqrt(2)\n",
    "    expect13 = (countA1B3[0] - countA1B3[1] - countA1B3[2] + countA1B3[3])/total13 # 1/sqrt(2)\n",
    "    expect31 = (countA3B1[0] - countA3B1[1] - countA3B1[2] + countA3B1[3])/total31 # -1/sqrt(2)\n",
    "    expect33 = (countA3B3[0] - countA3B3[1] - countA3B3[2] + countA3B3[3])/total33 # -1/sqrt(2) \n",
    "    \n",
    "    corr = expect11 - expect13 + expect31 + expect33 # calculate the CHSC correlation value (3)\n",
    "    \n",
    "    return corr"
   ]
  },
  {
   "cell_type": "markdown",
   "id": "a89b8261-0fcf-4bc3-be87-3dcb1615193e",
   "metadata": {},
   "source": [
    "接著來看看成果。"
   ]
  },
  {
   "cell_type": "code",
   "execution_count": 25,
   "id": "9d742e13-0c69-46a2-96bc-7a53c771ca76",
   "metadata": {},
   "outputs": [
    {
     "name": "stdout",
     "output_type": "stream",
     "text": [
      "CHSH correlation value: -2.848\n",
      "Length of the key: 98\n",
      "Number of mismatching bits: 0\n",
      "\n"
     ]
    }
   ],
   "source": [
    "corr = chsh_corr(result) #計算CHSH\n",
    "\n",
    "#CHSH結果\n",
    "print('CHSH correlation value: ' + str(round(corr, 3)))\n",
    "\n",
    "#金鑰\n",
    "print('Length of the key: ' + str(keyLength))\n",
    "print('Number of mismatching bits: ' + str(abKeyMismatches) + '\\n')"
   ]
  },
  {
   "cell_type": "markdown",
   "id": "5011e6b1-8a42-4637-bb45-475f38226309",
   "metadata": {},
   "source": [
    "可以看到CHSH的期望值大約等於$-2\\sqrt{2}\\approx-2.828$，這證明了Alice與Bob的量子確實是糾纏在一起的。\n",
    "並且Alice和Bob的金鑰沒有任何錯誤。"
   ]
  },
  {
   "cell_type": "markdown",
   "id": "3dffde45-6495-4488-b17d-6554d97cbcef",
   "metadata": {},
   "source": [
    "## Eve\n",
    "讓我們看看如果Eve在Alice與Bob之前提前測量了這些量子會怎樣。"
   ]
  },
  {
   "cell_type": "markdown",
   "id": "fdfb92a5-daa2-4e8c-a75b-0b3bf8241944",
   "metadata": {},
   "source": [
    "製作Eve提前觀測的電路"
   ]
  },
  {
   "cell_type": "code",
   "execution_count": 27,
   "id": "c0043f72-24bb-4da5-8ad2-8ec57e043cf1",
   "metadata": {},
   "outputs": [],
   "source": [
    "#提前用W方向觀測Alice的qubit\n",
    "measureEA2 = QuantumCircuit(qr, cr, name='measureEA2')\n",
    "measureEA2.s(qr[0])\n",
    "measureEA2.h(qr[0])\n",
    "measureEA2.t(qr[0])\n",
    "measureEA2.h(qr[0])\n",
    "measureEA2.measure(qr[0],cr[2])\n",
    "measureEA2.barrier()\n",
    "\n",
    "#提前用Z方向觀測Alice的qubit\n",
    "measureEA3 = QuantumCircuit(qr, cr, name='measureEA3')\n",
    "measureEA3.measure(qr[0],cr[2])\n",
    "measureEA3.barrier()\n",
    "\n",
    "#提前用W方向觀測Bob的qubit\n",
    "measureEB1 = QuantumCircuit(qr, cr, name='measureEB1')\n",
    "measureEB1.s(qr[1])\n",
    "measureEB1.h(qr[1])\n",
    "measureEB1.t(qr[1])\n",
    "measureEB1.h(qr[1])\n",
    "measureEB1.measure(qr[1],cr[3])\n",
    "measureEB1.barrier()\n",
    "#提前用Z方向觀測Bob的qubit\n",
    "measureEB2 = QuantumCircuit(qr, cr, name='measureEB2')\n",
    "measureEB2.measure(qr[1],cr[3])\n",
    "measureEB2.barrier()\n",
    "\n",
    "#合併\n",
    "eveMeasurements = [measureEA2, measureEA3, measureEB1, measureEB2]"
   ]
  },
  {
   "cell_type": "markdown",
   "id": "0ea9409e-d9f0-4f3d-9058-cb09427f268d",
   "metadata": {},
   "source": [
    "接著我們讓Eve隨機選擇使用的觀測方向"
   ]
  },
  {
   "cell_type": "code",
   "execution_count": 28,
   "id": "beaa973d-06f4-4bba-8555-5956bf77fcbb",
   "metadata": {},
   "outputs": [],
   "source": [
    "#第一和第二位分別代表Eve對Alice和Bob的qubit的測量\n",
    "eveMeasurementChoices = []\n",
    "\n",
    "for j in range(numberOfSinglets):      \n",
    "    if random.uniform(0, 1) <= 0.5: #50%會由WW方向測量\n",
    "        eveMeasurementChoices.append([0, 2])\n",
    "    else: #50%會由ZZ方向測量\n",
    "        eveMeasurementChoices.append([1, 3])"
   ]
  },
  {
   "cell_type": "markdown",
   "id": "c7149cd4-794d-4f1a-aac7-45dd6a70a5f4",
   "metadata": {},
   "source": [
    "和剛剛一樣讓我們合併，以上電路"
   ]
  },
  {
   "cell_type": "code",
   "execution_count": 29,
   "id": "0ce7cac8-a098-4799-bee2-17f1bd234295",
   "metadata": {},
   "outputs": [],
   "source": [
    "circuits = [] #合併的電路\n",
    "\n",
    "for j in range(numberOfSinglets):\n",
    "    #合併電路\n",
    "    circuitName = singlet.compose(eveMeasurements[eveMeasurementChoices[j][0]-1]).compose(eveMeasurements[eveMeasurementChoices[j][1]-1]).compose(aliceMeasurements[aliceMeasurementChoices[j]-1]).compose(bobMeasurements[bobMeasurementChoices[j]-1])\n",
    "    \n",
    "    #命名電路\n",
    "    circuitName.name=f'{str(j)} \":A\"{str(aliceMeasurementChoices[j])}\"_B\"{str(bobMeasurementChoices[j] + 2)}\"_E\"{str(eveMeasurementChoices[j][0])}{str(eveMeasurementChoices[j][1] - 1)}'\n",
    "    \n",
    "    #合併以上電路至List中\n",
    "    circuits.append(circuitName)"
   ]
  },
  {
   "cell_type": "markdown",
   "id": "c2b871e5-2b45-4906-9ba8-101c02893537",
   "metadata": {},
   "source": [
    "用*qasm_simulator*模擬並印出結果"
   ]
  },
  {
   "cell_type": "code",
   "execution_count": 30,
   "id": "21546977-d46b-43c2-a5e9-9ffda315a4dc",
   "metadata": {},
   "outputs": [
    {
     "name": "stdout",
     "output_type": "stream",
     "text": [
      "0 \":A\"3\"_B\"5\"_E\"12\t{'1010': 1}\n"
     ]
    }
   ],
   "source": [
    "simulator = Aer.get_backend('qasm_simulator')\n",
    "result = simulator.run(circuits,shots=1).result()\n",
    "print(str(circuits[0].name) + '\\t' + str(result.get_counts(circuits[0]))) #可以更改號碼"
   ]
  },
  {
   "cell_type": "markdown",
   "id": "80ffddc3-7107-4d1e-87ae-4ef395f7b68e",
   "metadata": {},
   "source": [
    "0 \":A\"2\"_B\"5\"_E\"01 {'0101': 1}\n",
    "\n",
    "可以看到後兩位不再是00了而是Eve量測後的結果'01'，而前面兩位依舊是Alice與Bob的結果。"
   ]
  },
  {
   "cell_type": "markdown",
   "id": "b4e3fd67-5ed4-4b65-8594-91bb5dc08e6b",
   "metadata": {},
   "source": [
    "接著我們修正正規表達式的搜尋方法。"
   ]
  },
  {
   "cell_type": "code",
   "execution_count": 31,
   "id": "ca7a1117-d217-43f7-8d06-be05c0fccbab",
   "metadata": {},
   "outputs": [],
   "source": [
    "ePatterns = [\n",
    "    re.compile('00..$'), #Eve從Alice與Bob的qubits獲得-1,-1\n",
    "    re.compile('01..$'), #Eve從Alice與Bob的qubits獲得1,-1\n",
    "    re.compile('10..$'),\n",
    "    re.compile('11..$')  \n",
    "]"
   ]
  },
  {
   "cell_type": "markdown",
   "id": "bb67f1a7-8df3-4467-ad71-0be7941a10da",
   "metadata": {},
   "source": [
    "接著我們用前面製作的abPatterns與ePatterns來處理我們的結果。"
   ]
  },
  {
   "cell_type": "code",
   "execution_count": 32,
   "id": "6a0633c3-9cb9-448d-a9cf-e25d452e2119",
   "metadata": {},
   "outputs": [],
   "source": [
    "aliceResults = [] \n",
    "bobResults = [] \n",
    "\n",
    "\n",
    "#第一和第二位分別儲存Alice與Bob的qubit的量測結果\n",
    "eveResults = [] \n",
    "\n",
    "for j in range(numberOfSinglets):\n",
    "    \n",
    "    res = list(result.get_counts(circuits[j]).keys())[0] # extract a key from the dict and transform it to str\n",
    "    \n",
    "    # Alice and Bob\n",
    "    if abPatterns[0].search(res): # check if the key is '..00' (if the measurement results are -1,-1)\n",
    "        aliceResults.append(-1) # Alice got the result -1 \n",
    "        bobResults.append(-1) # Bob got the result -1\n",
    "    if abPatterns[1].search(res):\n",
    "        aliceResults.append(1)\n",
    "        bobResults.append(-1)\n",
    "    if abPatterns[2].search(res): # check if the key is '..10' (if the measurement results are -1,1)\n",
    "        aliceResults.append(-1) # Alice got the result -1 \n",
    "        bobResults.append(1) # Bob got the result 1\n",
    "    if abPatterns[3].search(res): \n",
    "        aliceResults.append(1)\n",
    "        bobResults.append(1)\n",
    "\n",
    "    # Eve\n",
    "    if ePatterns[0].search(res): # check if the key is '00..'\n",
    "        eveResults.append([-1, -1]) # results of the measurement of Alice's and Bob's qubits are -1,-1\n",
    "    if ePatterns[1].search(res):\n",
    "        eveResults.append([1, -1])\n",
    "    if ePatterns[2].search(res):\n",
    "        eveResults.append([-1, 1])\n",
    "    if ePatterns[3].search(res):\n",
    "        eveResults.append([1, 1])"
   ]
  },
  {
   "cell_type": "markdown",
   "id": "34deaab1-00d4-459b-adce-bf31d23d1c6f",
   "metadata": {},
   "source": [
    "接著生成金鑰。"
   ]
  },
  {
   "cell_type": "code",
   "execution_count": 34,
   "id": "1b325702-174a-4c23-a785-319cc2a1f7c5",
   "metadata": {},
   "outputs": [],
   "source": [
    "aliceKey = [] \n",
    "bobKey = [] \n",
    "eveKeys = [] # Eve 竊取的金鑰\n",
    "\n",
    "# 將測量方向的選擇與測量結果做比對\n",
    "for j in range(numberOfSinglets):\n",
    "    # 如果Alice和Bob用了同一種基底的觀測電路\n",
    "    if (aliceMeasurementChoices[j] == 2 and bobMeasurementChoices[j] == 1) or (aliceMeasurementChoices[j] == 3 and bobMeasurementChoices[j] == 2):  \n",
    "        aliceKey.append(aliceResults[j]) # record the i-th result obtained by Alice as the bit of the secret key k\n",
    "        bobKey.append(-bobResults[j]) # record the multiplied by -1 i-th result obtained Bob as the bit of the secret key k'\n",
    "        eveKeys.append([eveResults[j][0], -eveResults[j][1]]) # record the i-th bits of the keys of Eve \n",
    "\n",
    "keyLength = len(aliceKey) #金鑰位數"
   ]
  },
  {
   "cell_type": "markdown",
   "id": "47d53664-386a-491c-b0d9-cb8396104c2e",
   "metadata": {},
   "source": [
    "計算Alice與Bob金鑰之間的錯誤位數。"
   ]
  },
  {
   "cell_type": "code",
   "execution_count": 35,
   "id": "d7fcccc1-35be-4aa1-9d31-c098c4d3aff3",
   "metadata": {},
   "outputs": [],
   "source": [
    "abKeyMismatches = 0 #Alice與Bob的金鑰錯誤位數\n",
    "eaKeyMismatches = 0 #Eve與Alice的金鑰錯誤位數\n",
    "ebKeyMismatches = 0 #Eve與Bob的金鑰錯誤位數\n",
    "\n",
    "for j in range(keyLength):\n",
    "    if aliceKey[j] != bobKey[j]: \n",
    "        abKeyMismatches += 1\n",
    "    if eveKeys[j][0] != aliceKey[j]:\n",
    "        eaKeyMismatches += 1\n",
    "    if eveKeys[j][1] != bobKey[j]:\n",
    "        ebKeyMismatches += 1"
   ]
  },
  {
   "cell_type": "markdown",
   "id": "e6f124f7-b320-43b0-a7bf-12dd7f46b028",
   "metadata": {},
   "source": [
    "我們也可以看看Eve竊取了多少百分率的金鑰。"
   ]
  },
  {
   "cell_type": "code",
   "execution_count": 36,
   "id": "f5b1f74f-521d-4dcc-b02f-7abcb6ac7013",
   "metadata": {},
   "outputs": [],
   "source": [
    "eaKnowledge = (keyLength - eaKeyMismatches)/keyLength # Alice金鑰被竊取的百分率\n",
    "ebKnowledge = (keyLength - ebKeyMismatches)/keyLength #Bob金鑰被竊取的百分率"
   ]
  },
  {
   "cell_type": "markdown",
   "id": "8f604eb3-a39c-483d-8197-339ace3d0688",
   "metadata": {},
   "source": [
    "我們也計算CHSH值，用來確認Alice與Bob的金鑰是否還糾纏在一起。"
   ]
  },
  {
   "cell_type": "code",
   "execution_count": 37,
   "id": "3156fb99-e1e5-4ecd-a205-f9017d2ee498",
   "metadata": {},
   "outputs": [],
   "source": [
    "corr = chsh_corr(result) "
   ]
  },
  {
   "cell_type": "markdown",
   "id": "e4ff903e-c0e3-4d22-8cba-1e146e00bb00",
   "metadata": {},
   "source": [
    "結果"
   ]
  },
  {
   "cell_type": "code",
   "execution_count": 38,
   "id": "0dbf24cb-b53f-4b92-9515-f750550aaa4b",
   "metadata": {},
   "outputs": [
    {
     "name": "stdout",
     "output_type": "stream",
     "text": [
      "CHSH correlation value: -1.175\n",
      "\n",
      "Length of the key: 98\n",
      "Number of mismatching bits: 13\n",
      "\n",
      "Eve's knowledge of Alice's key: 91.84 %\n",
      "Eve's knowledge of Bob's key: 92.86 %\n"
     ]
    }
   ],
   "source": [
    "# CHSH不等式測試\n",
    "print('CHSH correlation value: ' + str(round(corr, 3)) + '\\n')\n",
    "\n",
    "# 金鑰\n",
    "print('Length of the key: ' + str(keyLength))\n",
    "print('Number of mismatching bits: ' + str(abKeyMismatches) + '\\n')\n",
    "\n",
    "print('Eve\\'s knowledge of Alice\\'s key: ' + str(round(eaKnowledge * 100, 2)) + ' %')\n",
    "print('Eve\\'s knowledge of Bob\\'s key: ' + str(round(ebKnowledge * 100, 2)) + ' %')"
   ]
  },
  {
   "cell_type": "markdown",
   "id": "ad377411-ea6c-46ce-84a4-d617e8a01266",
   "metadata": {},
   "source": [
    "可以看到雖然成功Eve獲得了大部分的金鑰，但這卻影響了CHSH不等式的值，使其大幅偏離$-2\\sqrt{2}$，這便可讓通訊者注意到加密的異常並放棄這次金鑰交換了。\n",
    "\n",
    "值得注意的是Alice與Bob的金鑰存在誤差，這是因為Eve在測量完後將qubits發給破壞了糾纏態，使得Alice與Bob後續使用不同方向測量後有機率產生與預期不同的結果，讓最後的金鑰稱成產生了誤差。"
   ]
  },
  {
   "cell_type": "markdown",
   "id": "37f0e6db-7e21-46e1-b850-90085af23dec",
   "metadata": {},
   "source": [
    "## Additional information\n",
    "創作者 : 莊懷德\n",
    "\n",
    "參考自 : \n",
    "[> E91 quantum key distribution protocol](https://github.com/qiskit-community/qiskit-community-tutorials/blob/master/awards/teach_me_qiskit_2018/e91_qkd/e91_quantum_key_distribution_protocol.ipynb)"
   ]
  },
  {
   "cell_type": "code",
   "execution_count": null,
   "id": "8283379d-6aa8-4367-8065-d48fcde7793e",
   "metadata": {},
   "outputs": [],
   "source": []
  }
 ],
 "metadata": {
  "kernelspec": {
   "display_name": "Python 3 (ipykernel)",
   "language": "python",
   "name": "python3"
  },
  "language_info": {
   "codemirror_mode": {
    "name": "ipython",
    "version": 3
   },
   "file_extension": ".py",
   "mimetype": "text/x-python",
   "name": "python",
   "nbconvert_exporter": "python",
   "pygments_lexer": "ipython3",
   "version": "3.11.9"
  }
 },
 "nbformat": 4,
 "nbformat_minor": 5
}
