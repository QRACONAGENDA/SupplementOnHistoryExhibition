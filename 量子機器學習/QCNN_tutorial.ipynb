{
 "cells": [
  {
   "cell_type": "markdown",
   "id": "0a19c615",
   "metadata": {},
   "source": [
    "# 量子卷積神經網絡（QCNN）教學"
   ]
  },
  {
   "cell_type": "markdown",
   "id": "e4082008",
   "metadata": {},
   "source": [
    "## 介紹\n",
    "量子卷積神經網絡（Quantum Convolutional Neural Network, QCNN）是一種結合量子計算和卷積神經網絡的混合模型。這種模型利用量子計算的特性來提升神經網絡的性能。"
   ]
  },
  {
   "cell_type": "markdown",
   "id": "38337dbe",
   "metadata": {},
   "source": [
    "## 目標\n",
    "在本教學中，我們將介紹如何使用 Python 和 PennyLane 庫來構建一個簡單的 QCNN。"
   ]
  },
  {
   "cell_type": "markdown",
   "id": "67c99b00",
   "metadata": {},
   "source": [
    "## 步驟\n",
    "### 步驟 1：安裝所需庫\n",
    "我們需要安裝 PennyLane 和其他一些依賴庫。"
   ]
  },
  {
   "cell_type": "code",
   "execution_count": 1,
   "id": "ea92a64e",
   "metadata": {},
   "outputs": [
    {
     "name": "stdout",
     "output_type": "stream",
     "text": [
      "Collecting pennylane\n",
      "  Downloading PennyLane-0.37.0-py3-none-any.whl (1.8 MB)\n",
      "                                              0.0/1.8 MB ? eta -:--:--\n",
      "                                              0.0/1.8 MB ? eta -:--:--\n",
      "                                              0.0/1.8 MB 435.7 kB/s eta 0:00:05\n",
      "     --                                       0.1/1.8 MB 751.6 kB/s eta 0:00:03\n",
      "     -----                                    0.2/1.8 MB 1.4 MB/s eta 0:00:02\n",
      "     ----------                               0.5/1.8 MB 2.3 MB/s eta 0:00:01\n",
      "     ---------------------                    0.9/1.8 MB 3.7 MB/s eta 0:00:01\n",
      "     ---------------------------------------  1.8/1.8 MB 5.9 MB/s eta 0:00:01\n",
      "     ---------------------------------------- 1.8/1.8 MB 5.7 MB/s eta 0:00:00\n",
      "Collecting pennylane-qiskit\n",
      "  Downloading PennyLane_qiskit-0.37.0-py3-none-any.whl (38 kB)\n",
      "Requirement already satisfied: matplotlib in c:\\users\\kane\\anaconda3\\envs\\quantum\\lib\\site-packages (3.7.1)\n",
      "Requirement already satisfied: numpy<2.0 in c:\\users\\kane\\anaconda3\\envs\\quantum\\lib\\site-packages (from pennylane) (1.23.5)\n",
      "Requirement already satisfied: scipy in c:\\users\\kane\\anaconda3\\envs\\quantum\\lib\\site-packages (from pennylane) (1.11.1)\n",
      "Requirement already satisfied: networkx in c:\\users\\kane\\anaconda3\\envs\\quantum\\lib\\site-packages (from pennylane) (3.3)\n",
      "Requirement already satisfied: rustworkx in c:\\users\\kane\\anaconda3\\envs\\quantum\\lib\\site-packages (from pennylane) (0.15.1)\n",
      "Collecting autograd (from pennylane)\n",
      "  Downloading autograd-1.6.2-py3-none-any.whl (49 kB)\n",
      "                                              0.0/49.3 kB ? eta -:--:--\n",
      "     ---------------------------------------- 49.3/49.3 kB ? eta 0:00:00\n",
      "Collecting toml (from pennylane)\n",
      "  Using cached toml-0.10.2-py2.py3-none-any.whl (16 kB)\n",
      "Collecting appdirs (from pennylane)\n",
      "  Downloading appdirs-1.4.4-py2.py3-none-any.whl (9.6 kB)\n",
      "Collecting semantic-version>=2.7 (from pennylane)\n",
      "  Using cached semantic_version-2.10.0-py2.py3-none-any.whl (15 kB)\n",
      "Collecting autoray>=0.6.11 (from pennylane)\n",
      "  Downloading autoray-0.6.12-py3-none-any.whl (50 kB)\n",
      "                                              0.0/51.0 kB ? eta -:--:--\n",
      "     ---------------------------------------- 51.0/51.0 kB 2.5 MB/s eta 0:00:00\n",
      "Collecting cachetools (from pennylane)\n",
      "  Downloading cachetools-5.4.0-py3-none-any.whl (9.5 kB)\n",
      "Collecting pennylane-lightning>=0.37 (from pennylane)\n",
      "  Downloading PennyLane_Lightning-0.37.0-cp311-cp311-win_amd64.whl (5.7 MB)\n",
      "                                              0.0/5.7 MB ? eta -:--:--\n",
      "     ------------                             1.8/5.7 MB 120.1 MB/s eta 0:00:01\n",
      "     ----------------------                   3.3/5.7 MB 52.5 MB/s eta 0:00:01\n",
      "     -----------------------                  3.3/5.7 MB 30.4 MB/s eta 0:00:01\n",
      "     -----------------------                  3.4/5.7 MB 19.5 MB/s eta 0:00:01\n",
      "     ------------------------                 3.5/5.7 MB 16.1 MB/s eta 0:00:01\n",
      "     --------------------------               3.7/5.7 MB 13.9 MB/s eta 0:00:01\n",
      "     ---------------------------              4.0/5.7 MB 12.6 MB/s eta 0:00:01\n",
      "     -------------------------------------    5.4/5.7 MB 14.9 MB/s eta 0:00:01\n",
      "     ---------------------------------------  5.6/5.7 MB 14.9 MB/s eta 0:00:01\n",
      "     ---------------------------------------  5.7/5.7 MB 12.9 MB/s eta 0:00:01\n",
      "     ---------------------------------------- 5.7/5.7 MB 11.4 MB/s eta 0:00:00\n",
      "Requirement already satisfied: requests in c:\\users\\kane\\anaconda3\\envs\\quantum\\lib\\site-packages (from pennylane) (2.31.0)\n",
      "Requirement already satisfied: typing-extensions in c:\\users\\kane\\anaconda3\\envs\\quantum\\lib\\site-packages (from pennylane) (4.12.2)\n",
      "Requirement already satisfied: packaging in c:\\users\\kane\\anaconda3\\envs\\quantum\\lib\\site-packages (from pennylane) (23.1)\n",
      "Requirement already satisfied: qiskit>=0.32 in c:\\users\\kane\\anaconda3\\envs\\quantum\\lib\\site-packages (from pennylane-qiskit) (1.1.1)\n",
      "Requirement already satisfied: qiskit-aer in c:\\users\\kane\\anaconda3\\envs\\quantum\\lib\\site-packages (from pennylane-qiskit) (0.12.1)\n",
      "Collecting qiskit-ibm-provider (from pennylane-qiskit)\n",
      "  Downloading qiskit_ibm_provider-0.11.0-py3-none-any.whl (249 kB)\n",
      "                                              0.0/249.9 kB ? eta -:--:--\n",
      "     ---------------------------------------- 249.9/249.9 kB ? eta 0:00:00\n",
      "Collecting qiskit-ibm-runtime (from pennylane-qiskit)\n",
      "  Downloading qiskit_ibm_runtime-0.25.0-py3-none-any.whl (2.9 MB)\n",
      "                                              0.0/2.9 MB ? eta -:--:--\n",
      "     ---------------------------------        2.5/2.9 MB 76.5 MB/s eta 0:00:01\n",
      "     ---------------------------------------- 2.9/2.9 MB 61.7 MB/s eta 0:00:00\n",
      "Requirement already satisfied: sympy<1.13 in c:\\users\\kane\\anaconda3\\envs\\quantum\\lib\\site-packages (from pennylane-qiskit) (1.12)\n",
      "Requirement already satisfied: contourpy>=1.0.1 in c:\\users\\kane\\anaconda3\\envs\\quantum\\lib\\site-packages (from matplotlib) (1.1.0)\n",
      "Requirement already satisfied: cycler>=0.10 in c:\\users\\kane\\anaconda3\\envs\\quantum\\lib\\site-packages (from matplotlib) (0.11.0)\n",
      "Requirement already satisfied: fonttools>=4.22.0 in c:\\users\\kane\\anaconda3\\envs\\quantum\\lib\\site-packages (from matplotlib) (4.40.0)\n",
      "Requirement already satisfied: kiwisolver>=1.0.1 in c:\\users\\kane\\anaconda3\\envs\\quantum\\lib\\site-packages (from matplotlib) (1.4.4)\n",
      "Requirement already satisfied: pillow>=6.2.0 in c:\\users\\kane\\anaconda3\\envs\\quantum\\lib\\site-packages (from matplotlib) (10.0.0)\n",
      "Requirement already satisfied: pyparsing>=2.3.1 in c:\\users\\kane\\anaconda3\\envs\\quantum\\lib\\site-packages (from matplotlib) (3.1.0)\n",
      "Requirement already satisfied: python-dateutil>=2.7 in c:\\users\\kane\\anaconda3\\envs\\quantum\\lib\\site-packages (from matplotlib) (2.8.2)\n",
      "Requirement already satisfied: six>=1.5 in c:\\users\\kane\\anaconda3\\envs\\quantum\\lib\\site-packages (from python-dateutil>=2.7->matplotlib) (1.16.0)\n",
      "Requirement already satisfied: dill>=0.3 in c:\\users\\kane\\anaconda3\\envs\\quantum\\lib\\site-packages (from qiskit>=0.32->pennylane-qiskit) (0.3.6)\n",
      "Requirement already satisfied: stevedore>=3.0.0 in c:\\users\\kane\\anaconda3\\envs\\quantum\\lib\\site-packages (from qiskit>=0.32->pennylane-qiskit) (5.1.0)\n",
      "Requirement already satisfied: symengine>=0.11 in c:\\users\\kane\\anaconda3\\envs\\quantum\\lib\\site-packages (from qiskit>=0.32->pennylane-qiskit) (0.11.0)\n",
      "Requirement already satisfied: mpmath>=0.19 in c:\\users\\kane\\anaconda3\\envs\\quantum\\lib\\site-packages (from sympy<1.13->pennylane-qiskit) (1.3.0)\n",
      "Collecting future>=0.15.2 (from autograd->pennylane)\n",
      "  Downloading future-1.0.0-py3-none-any.whl (491 kB)\n",
      "                                              0.0/491.3 kB ? eta -:--:--\n",
      "     ---------------------------------------- 491.3/491.3 kB ? eta 0:00:00\n",
      "Requirement already satisfied: qiskit-terra>=0.21.0 in c:\\users\\kane\\anaconda3\\envs\\quantum\\lib\\site-packages (from qiskit-aer->pennylane-qiskit) (0.24.1)\n",
      "Requirement already satisfied: requests-ntlm>=1.1.0 in c:\\users\\kane\\anaconda3\\envs\\quantum\\lib\\site-packages (from qiskit-ibm-provider->pennylane-qiskit) (1.1.0)\n",
      "Requirement already satisfied: urllib3>=1.21.1 in c:\\users\\kane\\anaconda3\\envs\\quantum\\lib\\site-packages (from qiskit-ibm-provider->pennylane-qiskit) (2.0.3)\n",
      "Requirement already satisfied: websocket-client>=1.5.1 in c:\\users\\kane\\anaconda3\\envs\\quantum\\lib\\site-packages (from qiskit-ibm-provider->pennylane-qiskit) (1.6.1)\n",
      "Requirement already satisfied: websockets>=10.0 in c:\\users\\kane\\anaconda3\\envs\\quantum\\lib\\site-packages (from qiskit-ibm-provider->pennylane-qiskit) (11.0.3)\n",
      "Requirement already satisfied: charset-normalizer<4,>=2 in c:\\users\\kane\\anaconda3\\envs\\quantum\\lib\\site-packages (from requests->pennylane) (3.1.0)\n",
      "Requirement already satisfied: idna<4,>=2.5 in c:\\users\\kane\\anaconda3\\envs\\quantum\\lib\\site-packages (from requests->pennylane) (3.4)\n",
      "Requirement already satisfied: certifi>=2017.4.17 in c:\\users\\kane\\anaconda3\\envs\\quantum\\lib\\site-packages (from requests->pennylane) (2023.5.7)\n",
      "Collecting ibm-platform-services>=0.22.6 (from qiskit-ibm-runtime->pennylane-qiskit)\n",
      "  Downloading ibm-platform-services-0.55.1.tar.gz (323 kB)\n",
      "                                              0.0/323.1 kB ? eta -:--:--\n",
      "     ---------------------------------------- 323.1/323.1 kB ? eta 0:00:00\n",
      "  Installing build dependencies: started\n",
      "  Installing build dependencies: finished with status 'done'\n",
      "  Getting requirements to build wheel: started\n",
      "  Getting requirements to build wheel: finished with status 'done'\n",
      "  Preparing metadata (pyproject.toml): started\n",
      "  Preparing metadata (pyproject.toml): finished with status 'done'\n",
      "Collecting pydantic>=2.5.0 (from qiskit-ibm-runtime->pennylane-qiskit)\n",
      "  Downloading pydantic-2.8.2-py3-none-any.whl (423 kB)\n",
      "                                              0.0/423.9 kB ? eta -:--:--\n",
      "     ------------------------------------- 423.9/423.9 kB 27.6 MB/s eta 0:00:00\n",
      "Collecting ibm-cloud-sdk-core<4.0.0,>=3.20.3 (from ibm-platform-services>=0.22.6->qiskit-ibm-runtime->pennylane-qiskit)\n",
      "  Downloading ibm-cloud-sdk-core-3.20.3.tar.gz (62 kB)\n",
      "                                              0.0/62.7 kB ? eta -:--:--\n",
      "     ---------------------------------------- 62.7/62.7 kB ? eta 0:00:00\n",
      "  Installing build dependencies: started\n",
      "  Installing build dependencies: finished with status 'done'\n",
      "  Getting requirements to build wheel: started\n",
      "  Getting requirements to build wheel: finished with status 'done'\n",
      "  Preparing metadata (pyproject.toml): started\n",
      "  Preparing metadata (pyproject.toml): finished with status 'done'\n",
      "Collecting annotated-types>=0.4.0 (from pydantic>=2.5.0->qiskit-ibm-runtime->pennylane-qiskit)\n",
      "  Downloading annotated_types-0.7.0-py3-none-any.whl (13 kB)\n",
      "Collecting pydantic-core==2.20.1 (from pydantic>=2.5.0->qiskit-ibm-runtime->pennylane-qiskit)\n",
      "  Downloading pydantic_core-2.20.1-cp311-none-win_amd64.whl (1.9 MB)\n",
      "                                              0.0/1.9 MB ? eta -:--:--\n",
      "     ---------------------------------------  1.9/1.9 MB 60.8 MB/s eta 0:00:01\n",
      "     ---------------------------------------- 1.9/1.9 MB 40.2 MB/s eta 0:00:00\n",
      "Requirement already satisfied: ply>=3.10 in c:\\users\\kane\\anaconda3\\envs\\quantum\\lib\\site-packages (from qiskit-terra>=0.21.0->qiskit-aer->pennylane-qiskit) (3.11)\n",
      "Requirement already satisfied: psutil>=5 in c:\\users\\kane\\anaconda3\\envs\\quantum\\lib\\site-packages (from qiskit-terra>=0.21.0->qiskit-aer->pennylane-qiskit) (5.9.5)\n",
      "Requirement already satisfied: ntlm-auth>=1.0.2 in c:\\users\\kane\\anaconda3\\envs\\quantum\\lib\\site-packages (from requests-ntlm>=1.1.0->qiskit-ibm-provider->pennylane-qiskit) (1.5.0)\n",
      "Requirement already satisfied: cryptography>=1.3 in c:\\users\\kane\\anaconda3\\envs\\quantum\\lib\\site-packages (from requests-ntlm>=1.1.0->qiskit-ibm-provider->pennylane-qiskit) (41.0.1)\n",
      "Requirement already satisfied: pbr!=2.1.0,>=2.0.0 in c:\\users\\kane\\anaconda3\\envs\\quantum\\lib\\site-packages (from stevedore>=3.0.0->qiskit>=0.32->pennylane-qiskit) (5.11.1)\n",
      "Requirement already satisfied: cffi>=1.12 in c:\\users\\kane\\anaconda3\\envs\\quantum\\lib\\site-packages (from cryptography>=1.3->requests-ntlm>=1.1.0->qiskit-ibm-provider->pennylane-qiskit) (1.15.1)\n",
      "Collecting urllib3>=1.21.1 (from qiskit-ibm-provider->pennylane-qiskit)\n",
      "  Downloading urllib3-2.2.2-py3-none-any.whl (121 kB)\n",
      "                                              0.0/121.4 kB ? eta -:--:--\n",
      "     -------------------------------------- 121.4/121.4 kB 7.0 MB/s eta 0:00:00\n",
      "Collecting PyJWT<3.0.0,>=2.8.0 (from ibm-cloud-sdk-core<4.0.0,>=3.20.3->ibm-platform-services>=0.22.6->qiskit-ibm-runtime->pennylane-qiskit)\n",
      "  Downloading PyJWT-2.8.0-py3-none-any.whl (22 kB)\n",
      "Requirement already satisfied: pycparser in c:\\users\\kane\\anaconda3\\envs\\quantum\\lib\\site-packages (from cffi>=1.12->cryptography>=1.3->requests-ntlm>=1.1.0->qiskit-ibm-provider->pennylane-qiskit) (2.21)\n",
      "Building wheels for collected packages: ibm-platform-services, ibm-cloud-sdk-core\n",
      "  Building wheel for ibm-platform-services (pyproject.toml): started\n",
      "  Building wheel for ibm-platform-services (pyproject.toml): finished with status 'done'\n",
      "  Created wheel for ibm-platform-services: filename=ibm_platform_services-0.55.1-py3-none-any.whl size=339711 sha256=263fe6516c05de5ce156cc8debe8aad6edec0ac4f7500faeb1126fb891761306\n",
      "  Stored in directory: c:\\users\\kane\\appdata\\local\\pip\\cache\\wheels\\2b\\fe\\ad\\36246f9be26dc53dfc13de3de8c712036ba69789451bb61c09\n",
      "  Building wheel for ibm-cloud-sdk-core (pyproject.toml): started\n",
      "  Building wheel for ibm-cloud-sdk-core (pyproject.toml): finished with status 'done'\n",
      "  Created wheel for ibm-cloud-sdk-core: filename=ibm_cloud_sdk_core-3.20.3-py3-none-any.whl size=102582 sha256=b8e8e3520c7e0a315791f2e12e79fb5bb4be3513283731dc08205901f9710af1\n",
      "  Stored in directory: c:\\users\\kane\\appdata\\local\\pip\\cache\\wheels\\1b\\29\\1e\\92e124500f54b870d28a2831b31b16924412ec175393b1d71f\n",
      "Successfully built ibm-platform-services ibm-cloud-sdk-core\n",
      "Installing collected packages: appdirs, urllib3, toml, semantic-version, PyJWT, pydantic-core, future, cachetools, autoray, annotated-types, pydantic, autograd, ibm-cloud-sdk-core, qiskit-ibm-provider, ibm-platform-services, qiskit-ibm-runtime, pennylane-lightning, pennylane, pennylane-qiskit\n",
      "  Attempting uninstall: urllib3\n",
      "    Found existing installation: urllib3 2.0.3\n",
      "    Uninstalling urllib3-2.0.3:\n",
      "      Successfully uninstalled urllib3-2.0.3\n",
      "Successfully installed PyJWT-2.8.0 annotated-types-0.7.0 appdirs-1.4.4 autograd-1.6.2 autoray-0.6.12 cachetools-5.4.0 future-1.0.0 ibm-cloud-sdk-core-3.20.3 ibm-platform-services-0.55.1 pennylane-0.37.0 pennylane-lightning-0.37.0 pennylane-qiskit-0.37.0 pydantic-2.8.2 pydantic-core-2.20.1 qiskit-ibm-provider-0.11.0 qiskit-ibm-runtime-0.25.0 semantic-version-2.10.0 toml-0.10.2 urllib3-2.2.2\n"
     ]
    }
   ],
   "source": [
    "!pip install pennylane pennylane-qiskit matplotlib"
   ]
  },
  {
   "cell_type": "markdown",
   "id": "de90f468",
   "metadata": {},
   "source": [
    "### 步驟 2：導入所需模組"
   ]
  },
  {
   "cell_type": "code",
   "execution_count": 2,
   "id": "595e0bc3",
   "metadata": {},
   "outputs": [],
   "source": [
    "import pennylane as qml\n",
    "from pennylane import numpy as np\n",
    "import matplotlib.pyplot as plt"
   ]
  },
  {
   "cell_type": "markdown",
   "id": "50ad3e60",
   "metadata": {},
   "source": [
    "### 步驟 3：定義量子卷積層\n",
    "量子卷積層由一組量子門操作組成，用於對輸入量子態進行卷積操作。"
   ]
  },
  {
   "cell_type": "code",
   "execution_count": 3,
   "id": "89fd43b2",
   "metadata": {},
   "outputs": [],
   "source": [
    "def quantum_conv_layer(qubits, params):\n",
    "    n_qubits = len(qubits)\n",
    "    for i in range(n_qubits):\n",
    "        qml.Rot(*params[i], wires=qubits[i])\n",
    "    for i in range(n_qubits - 1):\n",
    "        qml.CNOT(wires=[qubits[i], qubits[i + 1]])"
   ]
  },
  {
   "cell_type": "markdown",
   "id": "98da080c",
   "metadata": {},
   "source": [
    "### 步驟 4：定義量子池化層\n",
    "量子池化層用於減少量子態的維度。"
   ]
  },
  {
   "cell_type": "code",
   "execution_count": 4,
   "id": "22623eba",
   "metadata": {},
   "outputs": [],
   "source": [
    "def quantum_pooling_layer(qubits):\n",
    "    for i in range(0, len(qubits), 2):\n",
    "        qml.CNOT(wires=[qubits[i], qubits[i + 1]])\n",
    "        qml.RY(-np.pi / 2, wires=qubits[i + 1])\n",
    "        qml.CNOT(wires=[qubits[i], qubits[i + 1]])\n",
    "        qml.RY(np.pi / 2, wires=qubits[i + 1])\n",
    "        qml.PauliX(wires=qubits[i + 1])"
   ]
  },
  {
   "cell_type": "markdown",
   "id": "32277c60",
   "metadata": {},
   "source": [
    "### 步驟 5：定義QCNN模型"
   ]
  },
  {
   "cell_type": "code",
   "execution_count": 5,
   "id": "350ba1c1",
   "metadata": {},
   "outputs": [],
   "source": [
    "n_qubits = 4  # 使用4個量子比特\n",
    "dev = qml.device('default.qubit', wires=n_qubits)\n",
    "\n",
    "@qml.qnode(dev)\n",
    "def QCNN_circuit(params):\n",
    "    quantum_conv_layer(range(n_qubits), params[0])\n",
    "    quantum_pooling_layer(range(n_qubits))\n",
    "    return [qml.expval(qml.PauliZ(i)) for i in range(n_qubits)]"
   ]
  },
  {
   "cell_type": "markdown",
   "id": "2e3bfebf",
   "metadata": {},
   "source": [
    "### 步驟 6：訓練QCNN\n",
    "我們將使用簡單的隨機梯度下降法來訓練QCNN。"
   ]
  },
  {
   "cell_type": "code",
   "execution_count": 6,
   "id": "ba799b0f",
   "metadata": {},
   "outputs": [
    {
     "name": "stdout",
     "output_type": "stream",
     "text": [
      "Step 10, Cost: -1.9901008816036772\n",
      "Step 20, Cost: -1.9999351382894393\n",
      "Step 30, Cost: -1.999999556820339\n",
      "Step 40, Cost: -1.999999996971019\n",
      "Step 50, Cost: -1.9999999999792988\n",
      "Step 60, Cost: -1.9999999999998597\n",
      "Step 70, Cost: -2.000000000000001\n",
      "Step 80, Cost: -2.000000000000001\n",
      "Step 90, Cost: -2.0000000000000018\n",
      "Step 100, Cost: -2.0000000000000018\n"
     ]
    }
   ],
   "source": [
    "def cost(params):\n",
    "    return np.sum(QCNN_circuit(params))\n",
    "\n",
    "params = np.random.randn(2, n_qubits, 3)\n",
    "opt = qml.GradientDescentOptimizer(stepsize=0.4)\n",
    "steps = 100\n",
    "for i in range(steps):\n",
    "    params = opt.step(cost, params)\n",
    "    if (i + 1) % 10 == 0:\n",
    "        print(f\"Step {i+1}, Cost: {cost(params)}\")"
   ]
  },
  {
   "cell_type": "markdown",
   "id": "cc83b358",
   "metadata": {},
   "source": [
    "### 步驟 7：可視化結果"
   ]
  },
  {
   "cell_type": "code",
   "execution_count": 7,
   "id": "ca1d6ec4",
   "metadata": {},
   "outputs": [
    {
     "data": {
      "image/png": "[encoded data removed]",
      "text/plain": [
       "<Figure size 640x480 with 1 Axes>"
      ]
     },
     "metadata": {},
     "output_type": "display_data"
    }
   ],
   "source": [
    "results = QCNN_circuit(params)\n",
    "plt.bar(range(n_qubits), results)\n",
    "plt.xlabel('Qubit')\n",
    "plt.ylabel('Expectation value')\n",
    "plt.title('QCNN Output')\n",
    "plt.show()"
   ]
  }
 ],
 "metadata": {
  "kernelspec": {
   "display_name": "quantum",
   "language": "python",
   "name": "python3"
  },
  "language_info": {
   "codemirror_mode": {
    "name": "ipython",
    "version": 3
   },
   "file_extension": ".py",
   "mimetype": "text/x-python",
   "name": "python",
   "nbconvert_exporter": "python",
   "pygments_lexer": "ipython3",
   "version": "3.11.3"
  }
 },
 "nbformat": 4,
 "nbformat_minor": 5
}
