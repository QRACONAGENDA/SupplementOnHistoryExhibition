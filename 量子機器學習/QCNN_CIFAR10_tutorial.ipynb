{
 "cells": [
  {
   "cell_type": "markdown",
   "id": "d7f50a94",
   "metadata": {},
   "source": [
    "# 量子卷積神經網絡（QCNN）教學"
   ]
  },
  {
   "cell_type": "markdown",
   "id": "2ef6feb6",
   "metadata": {},
   "source": [
    "## 介紹\n",
    "量子卷積神經網絡（Quantum Convolutional Neural Network, QCNN）是一種結合量子計算和卷積神經網絡的混合模型。這種模型利用量子計算的特性來提升神經網絡的性能。"
   ]
  },
  {
   "cell_type": "markdown",
   "id": "202410fc",
   "metadata": {},
   "source": [
    "## 目標\n",
    "在本教學中，我們將介紹如何使用 Python 和 PennyLane 庫來構建一個簡單的 QCNN，並使用 CIFAR-10 資料集進行訓練和測試。"
   ]
  },
  {
   "cell_type": "markdown",
   "id": "edc3807d",
   "metadata": {},
   "source": [
    "## 步驟\n",
    "### 步驟 1：安裝所需庫\n",
    "我們需要安裝 PennyLane 和其他一些依賴庫。"
   ]
  },
  {
   "cell_type": "code",
   "execution_count": null,
   "id": "da946d83",
   "metadata": {},
   "outputs": [],
   "source": [
    "!pip install pennylane pennylane-qiskit matplotlib keras"
   ]
  },
  {
   "cell_type": "markdown",
   "id": "98e1cd04",
   "metadata": {},
   "source": [
    "### 步驟 2：導入所需模組"
   ]
  },
  {
   "cell_type": "code",
   "execution_count": 3,
   "id": "64605807",
   "metadata": {},
   "outputs": [],
   "source": [
    "import pennylane as qml\n",
    "from pennylane import numpy as np\n",
    "import matplotlib.pyplot as plt\n",
    "from keras.datasets import cifar10\n",
    "from keras.utils import to_categorical\n",
    "from sklearn.preprocessing import StandardScaler"
   ]
  },
  {
   "cell_type": "markdown",
   "id": "4ea95ddb",
   "metadata": {},
   "source": [
    "### 步驟 3：加載並預處理 CIFAR-10 數據集"
   ]
  },
  {
   "cell_type": "code",
   "execution_count": 4,
   "id": "bfe0c32e",
   "metadata": {},
   "outputs": [],
   "source": [
    "(x_train, y_train), (x_test, y_test) = cifar10.load_data()\n",
    "x_train, x_test = x_train / 255.0, x_test / 255.0\n",
    "x_train, y_train = x_train[:10], y_train[:10]\n",
    "y_train = to_categorical(y_train, 10)\n",
    "y_test = to_categorical(y_test, 10)\n",
    "\n",
    "# 扁平化 CIFAR-10 圖像\n",
    "x_train = x_train.reshape((x_train.shape[0], -1))\n",
    "x_test = x_test.reshape((x_test.shape[0], -1))\n",
    "\n",
    "scaler = StandardScaler()\n",
    "x_train = scaler.fit_transform(x_train)[:, :10]\n",
    "x_test = scaler.transform(x_test)[:, :10]"
   ]
  },
  {
   "cell_type": "markdown",
   "id": "0b7c80db",
   "metadata": {},
   "source": [
    "### 步驟 4：定義量子卷積層"
   ]
  },
  {
   "cell_type": "code",
   "execution_count": 5,
   "id": "b4319162",
   "metadata": {},
   "outputs": [],
   "source": [
    "def quantum_conv_layer(qubits, params):\n",
    "    n_qubits = len(qubits)\n",
    "    for i in range(n_qubits):\n",
    "        qml.Rot(*params[i], wires=qubits[i])\n",
    "    for i in range(n_qubits - 1):\n",
    "        qml.CNOT(wires=[qubits[i], qubits[i + 1]])"
   ]
  },
  {
   "cell_type": "markdown",
   "id": "4b460fdb",
   "metadata": {},
   "source": [
    "### 步驟 5：定義量子池化層"
   ]
  },
  {
   "cell_type": "code",
   "execution_count": 6,
   "id": "3b9c13aa",
   "metadata": {},
   "outputs": [],
   "source": [
    "def quantum_pooling_layer(qubits):\n",
    "    for i in range(0, len(qubits), 2):\n",
    "        qml.CNOT(wires=[qubits[i], qubits[i + 1]])\n",
    "        qml.RY(-np.pi / 2, wires=qubits[i + 1])\n",
    "        qml.CNOT(wires=[qubits[i], qubits[i + 1]])\n",
    "        qml.RY(np.pi / 2, wires=qubits[i + 1])\n",
    "        qml.PauliX(wires=qubits[i + 1])"
   ]
  },
  {
   "cell_type": "markdown",
   "id": "5b3948b1",
   "metadata": {},
   "source": [
    "### 步驟 6：定義QCNN模型"
   ]
  },
  {
   "cell_type": "code",
   "execution_count": 7,
   "id": "9c3a5ea1",
   "metadata": {},
   "outputs": [],
   "source": [
    "n_qubits = 10  # 使用 10 個 Qubits\n",
    "dev = qml.device('default.qubit', wires=n_qubits)\n",
    "\n",
    "@qml.qnode(dev)\n",
    "def QCNN_circuit(params, x):\n",
    "    qml.templates.AngleEmbedding(x, wires=range(n_qubits))\n",
    "    quantum_conv_layer(range(n_qubits), params[0])\n",
    "    quantum_pooling_layer(range(n_qubits))\n",
    "    return [qml.expval(qml.PauliZ(i)) for i in range(n_qubits)]"
   ]
  },
  {
   "cell_type": "markdown",
   "id": "efecb33d",
   "metadata": {},
   "source": [
    "### 步驟 7：定義損失函數"
   ]
  },
  {
   "cell_type": "code",
   "execution_count": 8,
   "id": "513933e4",
   "metadata": {},
   "outputs": [],
   "source": [
    "def cost(params, x, y):\n",
    "    predictions = np.array(QCNN_circuit(params, x))\n",
    "    return np.mean((predictions - y) ** 2)"
   ]
  },
  {
   "cell_type": "markdown",
   "id": "9d32f837",
   "metadata": {},
   "source": [
    "### 步驟 8：訓練QCNN"
   ]
  },
  {
   "cell_type": "code",
   "execution_count": 9,
   "id": "ad117369",
   "metadata": {},
   "outputs": [
    {
     "name": "stdout",
     "output_type": "stream",
     "text": [
      "Step 10, Cost: 0.14831812755523704\n",
      "Step 20, Cost: 0.11019011516334179\n",
      "Step 30, Cost: 0.11010735685527481\n",
      "Step 40, Cost: 0.1101094544396111\n",
      "Step 50, Cost: 0.11010955547363395\n",
      "Step 60, Cost: 0.11010944444525321\n",
      "Step 70, Cost: 0.11010931689123862\n",
      "Step 80, Cost: 0.11010918713118327\n",
      "Step 90, Cost: 0.11010905608050503\n",
      "Step 100, Cost: 0.11010892378868589\n"
     ]
    }
   ],
   "source": [
    "params = np.random.randn(2, n_qubits, 3)\n",
    "opt = qml.GradientDescentOptimizer(stepsize=0.4)\n",
    "steps = 100\n",
    "\n",
    "for i in range(steps):\n",
    "    for x, y in zip(x_train, y_train):\n",
    "        params = opt.step(lambda p: cost(p, x, y), params)\n",
    "    if (i + 1) % 10 == 0:\n",
    "        print(f\"Step {i+1}, Cost: {cost(params, x_train[0], y_train[0])}\")"
   ]
  },
  {
   "cell_type": "markdown",
   "id": "a1107dea",
   "metadata": {},
   "source": [
    "### 步驟 9：測試QCNN"
   ]
  },
  {
   "cell_type": "code",
   "execution_count": 10,
   "id": "972626e8",
   "metadata": {},
   "outputs": [
    {
     "data": {
      "image/png": "[encoded data removed]",
      "text/plain": [
       "<Figure size 640x480 with 1 Axes>"
      ]
     },
     "metadata": {},
     "output_type": "display_data"
    }
   ],
   "source": [
    "test_results = [QCNN_circuit(params, x) for x in x_test[:10]]\n",
    "plt.bar(range(n_qubits), np.mean(test_results, axis=0))\n",
    "plt.xlabel('Qubit')\n",
    "plt.ylabel('Expectation value')\n",
    "plt.title('QCNN Output')\n",
    "plt.show()"
   ]
  }
 ],
 "metadata": {
  "kernelspec": {
   "display_name": "quantum",
   "language": "python",
   "name": "python3"
  },
  "language_info": {
   "codemirror_mode": {
    "name": "ipython",
    "version": 3
   },
   "file_extension": ".py",
   "mimetype": "text/x-python",
   "name": "python",
   "nbconvert_exporter": "python",
   "pygments_lexer": "ipython3",
   "version": "3.11.3"
  }
 },
 "nbformat": 4,
 "nbformat_minor": 5
}
