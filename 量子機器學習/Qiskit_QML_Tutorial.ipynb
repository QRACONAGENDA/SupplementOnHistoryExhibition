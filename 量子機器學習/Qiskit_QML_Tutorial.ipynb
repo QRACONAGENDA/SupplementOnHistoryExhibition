{
 "cells": [
  {
   "cell_type": "markdown",
   "id": "b972088f",
   "metadata": {},
   "source": [
    "# Qiskit 與量子機器學習教學\n",
    "\n",
    "量子機器學習（Quantum Machine Learning, QML）是結合量子計算和機器學習的一個前沿領域。使用 Qiskit，可以在 IBM 的量子電腦上實現量子機器學習算法。這篇教學將帶領你從基本的 Qiskit 概念到實現簡單的量子機器學習模型。"
   ]
  },
  {
   "cell_type": "markdown",
   "id": "9a3eb6da",
   "metadata": {},
   "source": [
    "## 目標\n",
    "1. 了解 Qiskit 的基本概念。\n",
    "2. 使用 Qiskit 建立和運行量子電路。\n",
    "3. 實現一個簡單的量子機器學習模型。"
   ]
  },
  {
   "cell_type": "markdown",
   "id": "2830471b",
   "metadata": {},
   "source": [
    "## 先決條件\n",
    "- 熟悉 Python。\n",
    "- 了解基本的線性代數和機器學習概念。"
   ]
  },
  {
   "cell_type": "markdown",
   "id": "82cb6178",
   "metadata": {},
   "source": [
    "## 環境設置\n",
    "首先，確保你已經安裝 Qiskit。你可以通過 pip 安裝："
   ]
  },
  {
   "cell_type": "code",
   "execution_count": 32,
   "id": "e29d2b1f",
   "metadata": {},
   "outputs": [
    {
     "name": "stdout",
     "output_type": "stream",
     "text": [
      "Requirement already satisfied: qiskit in c:\\users\\kane\\anaconda3\\envs\\quantum\\lib\\site-packages (1.1.1)\n",
      "Requirement already satisfied: rustworkx>=0.14.0 in c:\\users\\kane\\anaconda3\\envs\\quantum\\lib\\site-packages (from qiskit) (0.15.1)\n",
      "Requirement already satisfied: numpy<3,>=1.17 in c:\\users\\kane\\anaconda3\\envs\\quantum\\lib\\site-packages (from qiskit) (1.23.5)\n",
      "Requirement already satisfied: scipy>=1.5 in c:\\users\\kane\\anaconda3\\envs\\quantum\\lib\\site-packages (from qiskit) (1.11.1)\n",
      "Requirement already satisfied: sympy>=1.3 in c:\\users\\kane\\anaconda3\\envs\\quantum\\lib\\site-packages (from qiskit) (1.12)\n",
      "Requirement already satisfied: dill>=0.3 in c:\\users\\kane\\anaconda3\\envs\\quantum\\lib\\site-packages (from qiskit) (0.3.6)\n",
      "Requirement already satisfied: python-dateutil>=2.8.0 in c:\\users\\kane\\anaconda3\\envs\\quantum\\lib\\site-packages (from qiskit) (2.8.2)\n",
      "Requirement already satisfied: stevedore>=3.0.0 in c:\\users\\kane\\anaconda3\\envs\\quantum\\lib\\site-packages (from qiskit) (5.1.0)\n",
      "Requirement already satisfied: typing-extensions in c:\\users\\kane\\anaconda3\\envs\\quantum\\lib\\site-packages (from qiskit) (4.12.2)\n",
      "Requirement already satisfied: symengine>=0.11 in c:\\users\\kane\\anaconda3\\envs\\quantum\\lib\\site-packages (from qiskit) (0.11.0)\n",
      "Requirement already satisfied: six>=1.5 in c:\\users\\kane\\anaconda3\\envs\\quantum\\lib\\site-packages (from python-dateutil>=2.8.0->qiskit) (1.16.0)\n",
      "Requirement already satisfied: pbr!=2.1.0,>=2.0.0 in c:\\users\\kane\\anaconda3\\envs\\quantum\\lib\\site-packages (from stevedore>=3.0.0->qiskit) (5.11.1)\n",
      "Requirement already satisfied: mpmath>=0.19 in c:\\users\\kane\\anaconda3\\envs\\quantum\\lib\\site-packages (from sympy>=1.3->qiskit) (1.3.0)\n",
      "Requirement already satisfied: matplotlib in c:\\users\\kane\\anaconda3\\envs\\quantum\\lib\\site-packages (3.7.1)\n",
      "Requirement already satisfied: contourpy>=1.0.1 in c:\\users\\kane\\anaconda3\\envs\\quantum\\lib\\site-packages (from matplotlib) (1.1.0)\n",
      "Requirement already satisfied: cycler>=0.10 in c:\\users\\kane\\anaconda3\\envs\\quantum\\lib\\site-packages (from matplotlib) (0.11.0)\n",
      "Requirement already satisfied: fonttools>=4.22.0 in c:\\users\\kane\\anaconda3\\envs\\quantum\\lib\\site-packages (from matplotlib) (4.40.0)\n",
      "Requirement already satisfied: kiwisolver>=1.0.1 in c:\\users\\kane\\anaconda3\\envs\\quantum\\lib\\site-packages (from matplotlib) (1.4.4)\n",
      "Requirement already satisfied: numpy>=1.20 in c:\\users\\kane\\anaconda3\\envs\\quantum\\lib\\site-packages (from matplotlib) (1.23.5)\n",
      "Requirement already satisfied: packaging>=20.0 in c:\\users\\kane\\anaconda3\\envs\\quantum\\lib\\site-packages (from matplotlib) (23.1)\n",
      "Requirement already satisfied: pillow>=6.2.0 in c:\\users\\kane\\anaconda3\\envs\\quantum\\lib\\site-packages (from matplotlib) (10.0.0)\n",
      "Requirement already satisfied: pyparsing>=2.3.1 in c:\\users\\kane\\anaconda3\\envs\\quantum\\lib\\site-packages (from matplotlib) (3.1.0)\n",
      "Requirement already satisfied: python-dateutil>=2.7 in c:\\users\\kane\\anaconda3\\envs\\quantum\\lib\\site-packages (from matplotlib) (2.8.2)\n",
      "Requirement already satisfied: six>=1.5 in c:\\users\\kane\\anaconda3\\envs\\quantum\\lib\\site-packages (from python-dateutil>=2.7->matplotlib) (1.16.0)\n",
      "Requirement already satisfied: scikit-learn in c:\\users\\kane\\anaconda3\\envs\\quantum\\lib\\site-packages (1.5.1)\n",
      "Requirement already satisfied: numpy>=1.19.5 in c:\\users\\kane\\anaconda3\\envs\\quantum\\lib\\site-packages (from scikit-learn) (1.23.5)\n",
      "Requirement already satisfied: scipy>=1.6.0 in c:\\users\\kane\\anaconda3\\envs\\quantum\\lib\\site-packages (from scikit-learn) (1.11.1)\n",
      "Requirement already satisfied: joblib>=1.2.0 in c:\\users\\kane\\anaconda3\\envs\\quantum\\lib\\site-packages (from scikit-learn) (1.4.2)\n",
      "Requirement already satisfied: threadpoolctl>=3.1.0 in c:\\users\\kane\\anaconda3\\envs\\quantum\\lib\\site-packages (from scikit-learn) (3.5.0)\n"
     ]
    }
   ],
   "source": [
    "!pip install qiskit\n",
    "!pip install matplotlib\n",
    "!pip install -U scikit-learn\n",
    "!pip install qiskit-aqua\n",
    "!pip install qiskit-machine-learning"
   ]
  },
  {
   "cell_type": "markdown",
   "id": "0b1454f7",
   "metadata": {},
   "source": [
    "## 第一步：了解 Qiskit 基本概念\n",
    "\n",
    "Qiskit 是一個 Python 框架，用於創建和操作量子電路。我們從一些基本的 Qiskit 概念開始。"
   ]
  },
  {
   "cell_type": "code",
   "execution_count": 33,
   "id": "09be53f2",
   "metadata": {},
   "outputs": [
    {
     "data": {
      "image/png": "[encoded data removed]",
      "text/plain": [
       "<Figure size 454.517x284.278 with 1 Axes>"
      ]
     },
     "execution_count": 33,
     "metadata": {},
     "output_type": "execute_result"
    }
   ],
   "source": [
    "from qiskit import QuantumCircuit, transpile, Aer, execute\n",
    "from qiskit.visualization import plot_histogram\n",
    "\n",
    "# 創建一個量子電路，有 2 個量子位和 2 個經典位\n",
    "qc = QuantumCircuit(2, 2)\n",
    "\n",
    "# 添加一些量子門操作\n",
    "qc.h(0)  # 在第 0 個量子位上添加 Hadamard 門\n",
    "qc.cx(0, 1)  # 在第 0 和第 1 個量子位上添加 CNOT 門\n",
    "\n",
    "# 測量量子位\n",
    "qc.measure([0, 1], [0, 1])\n",
    "\n",
    "# 畫出量子電路\n",
    "qc.draw('mpl')"
   ]
  },
  {
   "cell_type": "markdown",
   "id": "109fb298",
   "metadata": {},
   "source": [
    "## 第二步：運行量子電路\n",
    "\n",
    "使用 Qiskit 的 Aer 模塊來模擬量子電路並查看結果。"
   ]
  },
  {
   "cell_type": "code",
   "execution_count": 34,
   "id": "593ff2e6",
   "metadata": {},
   "outputs": [
    {
     "data": {
      "image/png": "[encoded data removed]",
      "text/plain": [
       "<Figure size 700x500 with 1 Axes>"
      ]
     },
     "execution_count": 34,
     "metadata": {},
     "output_type": "execute_result"
    }
   ],
   "source": [
    "# 使用 Aer 模擬器運行量子電路\n",
    "simulator = Aer.get_backend('qasm_simulator')\n",
    "compiled_circuit = transpile(qc, simulator)\n",
    "result = execute(compiled_circuit, simulator).result()\n",
    "\n",
    "# 獲取結果並繪製直方圖\n",
    "counts = result.get_counts(compiled_circuit)\n",
    "plot_histogram(counts)"
   ]
  },
  {
   "cell_type": "markdown",
   "id": "9f736096",
   "metadata": {},
   "source": [
    "## 第三步：量子機器學習\n",
    "\n",
    "在這裡，我們將實現一個簡單的量子分類器。"
   ]
  },
  {
   "cell_type": "markdown",
   "id": "8e63cd3f",
   "metadata": {},
   "source": [
    "### 數據準備\n",
    "\n",
    "首先，我們需要準備一些簡單的數據。"
   ]
  },
  {
   "cell_type": "code",
   "execution_count": 35,
   "id": "5ebbc489",
   "metadata": {},
   "outputs": [
    {
     "name": "stdout",
     "output_type": "stream",
     "text": [
      "[[ 0.55942643  2.38869353]\n",
      " [ 1.31217492 -0.7173148 ]\n",
      " [-1.5598485  -1.92487377]\n",
      " [-2.2813861  -0.1368559 ]\n",
      " [ 1.56070438 -0.42795824]\n",
      " [-0.80804463  1.19664076]\n",
      " [-0.27062383 -2.25553963]\n",
      " [ 0.480502    0.54914434]\n",
      " [-1.20757158 -1.26898369]\n",
      " [ 0.25415746 -1.79532002]\n",
      " [ 2.59123946  0.24472415]\n",
      " [ 0.07123641  0.49429823]\n",
      " [-1.17762637 -1.20592943]\n",
      " [ 0.93343952  0.68811892]\n",
      " [ 1.65214494 -0.35885569]\n",
      " [-1.40735658 -1.56826626]\n",
      " [ 1.02255619 -1.08324727]\n",
      " [-0.81680628 -0.6795874 ]\n",
      " [ 1.50575249 -0.38919817]\n",
      " [-2.17105282 -0.04862909]\n",
      " [ 0.71479373 -1.42922002]\n",
      " [-0.15013844 -0.11708689]\n",
      " [-1.4117586  -1.5332749 ]\n",
      " [-2.58590856 -0.40925706]\n",
      " [ 0.82600732 -1.05383855]\n",
      " [-0.07133524  0.08896214]\n",
      " [ 0.6273745  -1.32933233]\n",
      " [ 1.65882246 -0.43131517]\n",
      " [ 1.2798899   1.25896077]\n",
      " [ 0.25058844  0.13979096]\n",
      " [-0.05319823  1.85605469]\n",
      " [-2.05832072 -2.52343407]\n",
      " [-2.02632079  0.06194498]\n",
      " [-1.65830375 -1.57127256]\n",
      " [ 1.28008347  1.28938375]\n",
      " [ 0.96423311  0.55600276]\n",
      " [-1.87653774  0.23085877]\n",
      " [-0.94275087  1.10009583]\n",
      " [-1.09831681 -0.86023823]\n",
      " [-0.38566776  0.01722979]\n",
      " [ 0.32725188  0.62453032]\n",
      " [ 1.03110238  0.55448398]\n",
      " [-0.50833095  1.48052803]\n",
      " [ 0.68057323  1.02703224]\n",
      " [ 1.08266027 -0.98021491]\n",
      " [-1.40210053 -1.72067112]\n",
      " [ 0.85239186 -1.14658127]\n",
      " [ 0.06845616 -1.73597973]\n",
      " [ 1.53703587 -0.53355799]\n",
      " [ 0.77861318 -1.20946429]\n",
      " [-1.64832073  0.4176729 ]\n",
      " [ 0.66530077  0.88629356]\n",
      " [ 1.17869556  1.09180466]\n",
      " [ 1.09885263  1.25291095]\n",
      " [-0.91916686  1.06173727]\n",
      " [-1.54851014 -1.43534875]\n",
      " [-0.3313761   1.56931739]\n",
      " [ 0.4505902  -1.50077611]\n",
      " [-1.00634985 -1.14054824]\n",
      " [-1.13207427  0.89075877]\n",
      " [-0.53963044 -0.72427983]\n",
      " [ 1.08659413 -1.00544254]\n",
      " [ 0.82584805  0.53479393]\n",
      " [ 0.34129395  0.57304248]\n",
      " [-1.28568005  0.73019848]\n",
      " [ 1.15199146 -0.71352532]\n",
      " [-1.36045573 -1.64060704]\n",
      " [-2.3279946  -0.17593681]\n",
      " [-0.34898484  1.56010259]\n",
      " [ 1.17329352  0.73644435]\n",
      " [ 1.57233676  1.4991983 ]\n",
      " [-1.69302842 -1.61453273]\n",
      " [-1.03223274  0.94800532]\n",
      " [ 1.83991037  2.30450019]\n",
      " [ 1.53313849  1.74147706]\n",
      " [-1.43483867 -1.42695838]\n",
      " [ 1.46830827 -0.48949935]\n",
      " [ 2.36867367  2.25661188]\n",
      " [-1.21722043 -1.36716377]\n",
      " [-0.78736523  1.18739045]\n",
      " [-1.54446032 -1.51042899]\n",
      " [ 1.98522348 -0.02185231]\n",
      " [ 0.15513175  1.99805321]\n",
      " [-2.00347738 -2.39955005]\n",
      " [ 2.52983424  1.94087643]\n",
      " [ 0.86199147  1.35970566]\n",
      " [ 1.35536951  1.15509316]\n",
      " [ 1.03967019 -0.92169432]\n",
      " [-1.82037691  0.25995672]\n",
      " [-0.79371387 -0.9311259 ]\n",
      " [-0.78284083  1.20852705]\n",
      " [-2.00918545 -2.24181979]\n",
      " [ 1.3727107   1.07954187]\n",
      " [-0.57500215 -0.3751207 ]\n",
      " [ 1.86378908  1.59488828]\n",
      " [ 1.80474148 -0.14994102]\n",
      " [ 1.15466088 -0.95548162]\n",
      " [-0.56772453  1.38991764]\n",
      " [-1.15806823  0.86561977]\n",
      " [-1.75518644  0.36016958]]\n",
      "[0 1 0 0 1 0 1 1 0 1 1 0 0 1 1 0 1 0 1 0 1 1 0 0 1 0 1 1 1 1 0 0 0 0 1 1 0\n",
      " 0 0 0 1 1 0 1 1 0 1 1 1 1 0 1 1 1 0 0 0 1 0 0 0 1 1 1 0 1 0 0 0 1 1 0 0 1\n",
      " 1 0 1 1 0 0 0 1 0 0 1 1 1 1 0 0 0 0 1 0 1 1 1 0 0 0]\n"
     ]
    }
   ],
   "source": [
    "import numpy as np\n",
    "from sklearn.datasets import make_classification\n",
    "from sklearn.model_selection import train_test_split\n",
    "\n",
    "# 創建二分類數據集\n",
    "X, y = make_classification(n_samples=100, n_features=2, n_informative=2, n_redundant=0, random_state=42)\n",
    "X_train, X_test, y_train, y_test = train_test_split(X, y, test_size=0.2, random_state=42)\n",
    "\n",
    "print(X)\n",
    "print(y)"
   ]
  },
  {
   "cell_type": "markdown",
   "id": "437290b8",
   "metadata": {},
   "source": [
    "### 量子特徵映射\n",
    "\n",
    "我們使用 Qiskit 的量子特徵映射（Quantum Feature Map）來將經典數據映射到量子狀態。"
   ]
  },
  {
   "cell_type": "code",
   "execution_count": 36,
   "id": "7461b11d",
   "metadata": {},
   "outputs": [
    {
     "data": {
      "image/png": "[encoded data removed]",
      "text/plain": [
       "<Figure size 705.35x200.667 with 1 Axes>"
      ]
     },
     "execution_count": 36,
     "metadata": {},
     "output_type": "execute_result"
    }
   ],
   "source": [
    "from qiskit.circuit.library import ZZFeatureMap\n",
    "\n",
    "# 創建一個兩量子位的 ZZ 特徵映射\n",
    "feature_map = ZZFeatureMap(feature_dimension=2, reps=1)\n",
    "\n",
    "# 繪製特徵映射\n",
    "feature_map.decompose().draw('mpl')"
   ]
  },
  {
   "cell_type": "markdown",
   "id": "d24bd03b",
   "metadata": {},
   "source": [
    "### 量子分類器\n",
    "\n",
    "我們將使用參數化量子電路（Parameterized Quantum Circuit）作為分類器。"
   ]
  },
  {
   "cell_type": "code",
   "execution_count": 39,
   "id": "33893ba5",
   "metadata": {},
   "outputs": [
    {
     "data": {
      "image/png": "[encoded data removed]",
      "text/plain": [
       "<Figure size 538.128x200.667 with 1 Axes>"
      ]
     },
     "execution_count": 39,
     "metadata": {},
     "output_type": "execute_result"
    }
   ],
   "source": [
    "from qiskit.circuit import Parameter\n",
    "from qiskit.circuit.library import TwoLocal\n",
    "\n",
    "# 創建一個兩量子位的參數化量子電路\n",
    "params = [Parameter('θ{}'.format(i)) for i in range(4)]\n",
    "var_form = TwoLocal(2, 'ry', 'cz', reps=1)\n",
    "qc = QuantumCircuit(2)\n",
    "\n",
    "# 添加特徵映射和參數化量子電路\n",
    "qc.compose(feature_map, inplace=True)\n",
    "qc.compose(var_form, inplace=True)\n",
    "\n",
    "# 繪製參數化量子電路\n",
    "qc.draw('mpl')"
   ]
  },
  {
   "cell_type": "markdown",
   "id": "edca1f86",
   "metadata": {},
   "source": []
  },
  {
   "cell_type": "markdown",
   "id": "b3ebee42",
   "metadata": {},
   "source": [
    "### 訓練量子分類器\n",
    "\n",
    "使用經典優化算法來訓練量子分類器。"
   ]
  },
  {
   "cell_type": "code",
   "execution_count": 38,
   "id": "36e37076",
   "metadata": {},
   "outputs": [
    {
     "name": "stdout",
     "output_type": "stream",
     "text": [
      "最佳參數:  [-0.03623632 -0.02983169]\n"
     ]
    }
   ],
   "source": [
    "import numpy as np\n",
    "from qiskit import Aer, transpile, execute\n",
    "from qiskit.circuit import QuantumCircuit, Parameter\n",
    "from qiskit.algorithms.optimizers import COBYLA\n",
    "\n",
    "# 初始化量子模擬器\n",
    "simulator = Aer.get_backend('qasm_simulator')\n",
    "\n",
    "# 定義帶有參數的量子電路\n",
    "params = [Parameter(f'θ{i}') for i in range(2)]\n",
    "qc = QuantumCircuit(2)\n",
    "qc.ry(params[0], 0)\n",
    "qc.cx(0, 1)\n",
    "qc.ry(params[1], 1)\n",
    "qc.measure_all()\n",
    "\n",
    "# 定義目標函數\n",
    "def objective_function(params):\n",
    "    qc_with_params = qc.bind_parameters(params)\n",
    "    compiled_circuit = transpile(qc_with_params, simulator)\n",
    "    result = execute(compiled_circuit, simulator, shots=1024).result()\n",
    "    counts = result.get_counts()\n",
    "    # 計算分類準確率（這裡簡單計算）\n",
    "    return -counts.get('00', 0) / 1024\n",
    "\n",
    "# 使用 COBYLA 優化器\n",
    "optimizer = COBYLA(maxiter=200, tol=0.001)\n",
    "initial_point = np.random.rand(len(params))\n",
    "\n",
    "# 優化目標函數\n",
    "result = optimizer.minimize(fun=objective_function, x0=initial_point)\n",
    "\n",
    "# 最佳參數\n",
    "optimal_params = result.x\n",
    "print(\"最佳參數: \", optimal_params)\n"
   ]
  },
  {
   "cell_type": "markdown",
   "id": "51230cae",
   "metadata": {},
   "source": [
    "### 量子SVM"
   ]
  },
  {
   "cell_type": "code",
   "execution_count": 73,
   "id": "d1d93f78",
   "metadata": {},
   "outputs": [
    {
     "name": "stdout",
     "output_type": "stream",
     "text": [
      "X_train shape: (200, 2)\n",
      "y_train shape: (200, 2)\n",
      "X_test shape: (40, 2)\n",
      "y_test shape: (40, 2)\n",
      "================\n",
      "================\n",
      "Train Accuracy: 71.00%\n",
      "Test Accuracy: 60.00%\n"
     ]
    },
    {
     "data": {
      "image/png": "[encoded data removed]",
      "text/plain": [
       "<Figure size 640x480 with 1 Axes>"
      ]
     },
     "metadata": {},
     "output_type": "display_data"
    }
   ],
   "source": [
    "import numpy as np\n",
    "from qiskit import Aer\n",
    "from qiskit.primitives import Sampler\n",
    "from qiskit.circuit.library import ZZFeatureMap, RealAmplitudes\n",
    "from qiskit_machine_learning.algorithms.classifiers import VQC\n",
    "from qiskit_machine_learning.datasets import ad_hoc_data\n",
    "from qiskit.algorithms.optimizers import COBYLA\n",
    "from sklearn.metrics import accuracy_score\n",
    "import matplotlib.pyplot as plt\n",
    "\n",
    "# 生成資料集\n",
    "feature_dim = 2  # 特徵的維度\n",
    "train_size, test_size = 10000, 1000\n",
    "X_train, y_train, X_test, y_test = ad_hoc_data(\n",
    "    training_size=train_size, test_size=test_size, n=feature_dim, gap=0.3\n",
    ")\n",
    "\n",
    "# 打印資料集的形狀以檢查是否符合預期\n",
    "print(\"X_train shape:\", X_train.shape)\n",
    "print(\"y_train shape:\", y_train.shape)\n",
    "print(\"X_test shape:\", X_test.shape)\n",
    "print(\"y_test shape:\", y_test.shape)\n",
    "\n",
    "# 量子特徵映射和變分形式\n",
    "feature_map = ZZFeatureMap(feature_dimension=feature_dim, reps=1, entanglement='linear')\n",
    "ansatz = RealAmplitudes(num_qubits=feature_dim, reps=1)\n",
    "\n",
    "# 設置量子實例\n",
    "sampler = Sampler()\n",
    "\n",
    "# 定義變分量子分類器\n",
    "vqc = VQC(feature_map=feature_map, ansatz=ansatz, optimizer=COBYLA(), sampler=sampler)\n",
    "\n",
    "print(\"================\")\n",
    "# 訓練模型\n",
    "vqc.fit(X_train, y_train)\n",
    "\n",
    "print(\"================\")\n",
    "\n",
    "# 預測測試資料\n",
    "y_pred_train = vqc.predict(X_train)\n",
    "y_pred_test = vqc.predict(X_test)\n",
    "\n",
    "# 將編碼的預測結果轉換回標籤\n",
    "y_pred_train_labels = np.argmax(y_pred_train, axis=1)\n",
    "y_pred_test_labels = np.argmax(y_pred_test, axis=1)\n",
    "\n",
    "# 計算準確率\n",
    "train_accuracy = accuracy_score(np.argmax(y_train, axis=1), y_pred_train_labels)\n",
    "test_accuracy = accuracy_score(np.argmax(y_test, axis=1), y_pred_test_labels)\n",
    "\n",
    "print(f\"Train Accuracy: {train_accuracy * 100:.2f}%\")\n",
    "print(f\"Test Accuracy: {test_accuracy * 100:.2f}%\")\n",
    "\n",
    "# 繪製分類結果\n",
    "plt.scatter(X_test[:, 0], X_test[:, 1], c=y_pred_test_labels, cmap='coolwarm', edgecolors='k', label='Test Data')\n",
    "plt.title(\"Quantum SVM (VQC)\")\n",
    "plt.xlabel('Feature 1')\n",
    "plt.ylabel('Feature 2')\n",
    "plt.legend()\n",
    "plt.show()\n"
   ]
  }
 ],
 "metadata": {
  "kernelspec": {
   "display_name": "quantum",
   "language": "python",
   "name": "python3"
  },
  "language_info": {
   "codemirror_mode": {
    "name": "ipython",
    "version": 3
   },
   "file_extension": ".py",
   "mimetype": "text/x-python",
   "name": "python",
   "nbconvert_exporter": "python",
   "pygments_lexer": "ipython3",
   "version": "3.11.3"
  }
 },
 "nbformat": 4,
 "nbformat_minor": 5
}
